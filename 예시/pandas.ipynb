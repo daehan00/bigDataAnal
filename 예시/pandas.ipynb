{
 "cells": [
  {
   "cell_type": "code",
   "id": "initial_id",
   "metadata": {
    "collapsed": true,
    "ExecuteTime": {
     "end_time": "2025-06-21T04:39:38.586679Z",
     "start_time": "2025-06-21T04:39:38.321248Z"
    }
   },
   "source": "import pandas as pd",
   "outputs": [],
   "execution_count": 1
  },
  {
   "metadata": {
    "ExecuteTime": {
     "end_time": "2025-06-21T04:39:38.603698Z",
     "start_time": "2025-06-21T04:39:38.589643Z"
    }
   },
   "cell_type": "code",
   "source": [
    "df = pd.read_csv(\"../data/basic1.csv\")\n",
    "display(df)"
   ],
   "id": "7537ee5e2104f445",
   "outputs": [
    {
     "data": {
      "text/plain": [
       "       id    age city    f1  f2   f3    f4         f5\n",
       "0    id01    2.0   서울   NaN   0  NaN  ENFJ  91.297791\n",
       "1    id02    9.0   서울  70.0   1  NaN  ENFJ  60.339826\n",
       "2    id03   27.0   서울  61.0   1  NaN  ISTJ  17.252986\n",
       "3    id04   75.0   서울   NaN   2  NaN  INFP  52.667078\n",
       "4    id05   24.0   서울  85.0   2  NaN  ISFJ  29.269869\n",
       "..    ...    ...  ...   ...  ..  ...   ...        ...\n",
       "95   id96   92.0   경기  53.0   1  NaN  ENTJ  52.667078\n",
       "96   id97  100.0   경기   NaN   0  NaN  INFP  67.886373\n",
       "97   id98   39.0   경기  58.0   2  NaN  INFP  98.429899\n",
       "98   id99    1.0   경기  47.0   0  NaN  ESFJ  97.381034\n",
       "99  id100   47.0   경기  53.0   0  vip  ESFP  33.308999\n",
       "\n",
       "[100 rows x 8 columns]"
      ],
      "text/html": [
       "<div>\n",
       "<style scoped>\n",
       "    .dataframe tbody tr th:only-of-type {\n",
       "        vertical-align: middle;\n",
       "    }\n",
       "\n",
       "    .dataframe tbody tr th {\n",
       "        vertical-align: top;\n",
       "    }\n",
       "\n",
       "    .dataframe thead th {\n",
       "        text-align: right;\n",
       "    }\n",
       "</style>\n",
       "<table border=\"1\" class=\"dataframe\">\n",
       "  <thead>\n",
       "    <tr style=\"text-align: right;\">\n",
       "      <th></th>\n",
       "      <th>id</th>\n",
       "      <th>age</th>\n",
       "      <th>city</th>\n",
       "      <th>f1</th>\n",
       "      <th>f2</th>\n",
       "      <th>f3</th>\n",
       "      <th>f4</th>\n",
       "      <th>f5</th>\n",
       "    </tr>\n",
       "  </thead>\n",
       "  <tbody>\n",
       "    <tr>\n",
       "      <th>0</th>\n",
       "      <td>id01</td>\n",
       "      <td>2.0</td>\n",
       "      <td>서울</td>\n",
       "      <td>NaN</td>\n",
       "      <td>0</td>\n",
       "      <td>NaN</td>\n",
       "      <td>ENFJ</td>\n",
       "      <td>91.297791</td>\n",
       "    </tr>\n",
       "    <tr>\n",
       "      <th>1</th>\n",
       "      <td>id02</td>\n",
       "      <td>9.0</td>\n",
       "      <td>서울</td>\n",
       "      <td>70.0</td>\n",
       "      <td>1</td>\n",
       "      <td>NaN</td>\n",
       "      <td>ENFJ</td>\n",
       "      <td>60.339826</td>\n",
       "    </tr>\n",
       "    <tr>\n",
       "      <th>2</th>\n",
       "      <td>id03</td>\n",
       "      <td>27.0</td>\n",
       "      <td>서울</td>\n",
       "      <td>61.0</td>\n",
       "      <td>1</td>\n",
       "      <td>NaN</td>\n",
       "      <td>ISTJ</td>\n",
       "      <td>17.252986</td>\n",
       "    </tr>\n",
       "    <tr>\n",
       "      <th>3</th>\n",
       "      <td>id04</td>\n",
       "      <td>75.0</td>\n",
       "      <td>서울</td>\n",
       "      <td>NaN</td>\n",
       "      <td>2</td>\n",
       "      <td>NaN</td>\n",
       "      <td>INFP</td>\n",
       "      <td>52.667078</td>\n",
       "    </tr>\n",
       "    <tr>\n",
       "      <th>4</th>\n",
       "      <td>id05</td>\n",
       "      <td>24.0</td>\n",
       "      <td>서울</td>\n",
       "      <td>85.0</td>\n",
       "      <td>2</td>\n",
       "      <td>NaN</td>\n",
       "      <td>ISFJ</td>\n",
       "      <td>29.269869</td>\n",
       "    </tr>\n",
       "    <tr>\n",
       "      <th>...</th>\n",
       "      <td>...</td>\n",
       "      <td>...</td>\n",
       "      <td>...</td>\n",
       "      <td>...</td>\n",
       "      <td>...</td>\n",
       "      <td>...</td>\n",
       "      <td>...</td>\n",
       "      <td>...</td>\n",
       "    </tr>\n",
       "    <tr>\n",
       "      <th>95</th>\n",
       "      <td>id96</td>\n",
       "      <td>92.0</td>\n",
       "      <td>경기</td>\n",
       "      <td>53.0</td>\n",
       "      <td>1</td>\n",
       "      <td>NaN</td>\n",
       "      <td>ENTJ</td>\n",
       "      <td>52.667078</td>\n",
       "    </tr>\n",
       "    <tr>\n",
       "      <th>96</th>\n",
       "      <td>id97</td>\n",
       "      <td>100.0</td>\n",
       "      <td>경기</td>\n",
       "      <td>NaN</td>\n",
       "      <td>0</td>\n",
       "      <td>NaN</td>\n",
       "      <td>INFP</td>\n",
       "      <td>67.886373</td>\n",
       "    </tr>\n",
       "    <tr>\n",
       "      <th>97</th>\n",
       "      <td>id98</td>\n",
       "      <td>39.0</td>\n",
       "      <td>경기</td>\n",
       "      <td>58.0</td>\n",
       "      <td>2</td>\n",
       "      <td>NaN</td>\n",
       "      <td>INFP</td>\n",
       "      <td>98.429899</td>\n",
       "    </tr>\n",
       "    <tr>\n",
       "      <th>98</th>\n",
       "      <td>id99</td>\n",
       "      <td>1.0</td>\n",
       "      <td>경기</td>\n",
       "      <td>47.0</td>\n",
       "      <td>0</td>\n",
       "      <td>NaN</td>\n",
       "      <td>ESFJ</td>\n",
       "      <td>97.381034</td>\n",
       "    </tr>\n",
       "    <tr>\n",
       "      <th>99</th>\n",
       "      <td>id100</td>\n",
       "      <td>47.0</td>\n",
       "      <td>경기</td>\n",
       "      <td>53.0</td>\n",
       "      <td>0</td>\n",
       "      <td>vip</td>\n",
       "      <td>ESFP</td>\n",
       "      <td>33.308999</td>\n",
       "    </tr>\n",
       "  </tbody>\n",
       "</table>\n",
       "<p>100 rows × 8 columns</p>\n",
       "</div>"
      ]
     },
     "metadata": {},
     "output_type": "display_data"
    }
   ],
   "execution_count": 2
  },
  {
   "metadata": {},
   "cell_type": "markdown",
   "source": "### 숫자형 데이터",
   "id": "44e90f8c2c374a40"
  },
  {
   "metadata": {
    "ExecuteTime": {
     "end_time": "2025-06-21T04:39:38.614343Z",
     "start_time": "2025-06-21T04:39:38.604455Z"
    }
   },
   "cell_type": "code",
   "source": [
    "# 통계, 집계\n",
    "df[\"f5\"].mean()\n",
    "df[\"f5\"].median()\n",
    "df[\"f5\"].mode() # 최빈값\n",
    "df[\"f5\"].min()\n",
    "df[\"f5\"].max()\n",
    "df[\"f5\"].sum()\n",
    "df[\"f5\"].std()\n",
    "df[\"f5\"].var()\n",
    "df[\"f5\"].count() # NaN 제외하고\n",
    "df[\"f5\"].describe() # 한번에 여러가지 값 출력\n",
    "df[\"f5\"].quantile(0.5) # 분위수\n",
    "df[\"f5\"].corr(df[\"f1\"]) # 상관계수\n",
    "df[\"f5\"].cov(df[\"f1\"]) # 공분산\n",
    "df[\"f5\"].skew() # 왜도\n",
    "df[\"f5\"].kurt() # 첨도\n",
    "\n",
    "# 변환\n",
    "df[\"f5\"] = df[\"f5\"].abs()\n",
    "df[\"f5\"] = df[\"f5\"].astype(int) # type conversion\n",
    "df[\"f5\"] = df[\"f5\"].clip(0, 1) # 하한, 상한값을 지정하고 이후 값을은 상한과 하한으로 대체\n",
    "df[\"f5_cumsum\"] = df[\"f5\"].cumsum()\n",
    "df[\"f5_diff\"] = df[\"f5\"].diff() # 이전값과의 차이\n",
    "\n",
    "# 결측치 처리\n",
    "df[\"f5\"].fillna(0)\n",
    "df[\"f5\"].dropna()\n",
    "\n",
    "# 그룹별 통계\n",
    "df.groupby(\"f4\")[\"f5\"].mean()"
   ],
   "id": "802c3b9f963b24bb",
   "outputs": [
    {
     "data": {
      "text/plain": [
       "f4\n",
       "ENFJ    1.0\n",
       "ENFP    1.0\n",
       "ENTJ    1.0\n",
       "ENTP    1.0\n",
       "ESFJ    1.0\n",
       "ESFP    1.0\n",
       "ESTJ    1.0\n",
       "ESTP    1.0\n",
       "INFJ    1.0\n",
       "INFP    1.0\n",
       "INTJ    1.0\n",
       "INTP    1.0\n",
       "ISFJ    1.0\n",
       "ISFP    1.0\n",
       "ISTJ    1.0\n",
       "ISTP    1.0\n",
       "Name: f5, dtype: float64"
      ]
     },
     "execution_count": 3,
     "metadata": {},
     "output_type": "execute_result"
    }
   ],
   "execution_count": 3
  },
  {
   "metadata": {},
   "cell_type": "markdown",
   "source": "### 문자열 데이터",
   "id": "5a44262b94cc3ffe"
  },
  {
   "metadata": {
    "ExecuteTime": {
     "end_time": "2025-06-21T04:39:38.619853Z",
     "start_time": "2025-06-21T04:39:38.615312Z"
    }
   },
   "cell_type": "code",
   "source": [
    "df[df[\"f4\"].str.contains(\"apple\")]\n",
    "df[df[\"f4\"].str.startswith(\"A\")]\n",
    "df[df[\"f4\"].str.len() > 5]\n",
    "\n",
    "df[\"col_upper\"] = df[\"f4\"].str.upper()\n",
    "df[\"col_lower\"] = df[\"f4\"].str.lower()\n",
    "df[\"col_stripped\"] = df[\"f4\"].str.strip()\n",
    "df[\"col_replaced\"] = df[\"f4\"].str.replace(\"a\", \"b\")\n",
    "df[\"first_word\"] = df[\"f4\"].str.split(\" \").str[0]\n",
    "df[\"numbers\"] = df[\"f4\"].str.extract(r'(\\d+)')\n",
    "df[\"col_zfill\"] = df[\"f4\"].str.zfill(5) # 문자열 앞을 0으로 채워 고정 길이로 맞춤\n",
    "df[\"col_pad\"] = df[\"f4\"].str.pad(10, fillchar='*') # 문자열 앞/뒤를 공백이나 특정 문자로 채움"
   ],
   "id": "ec6295980f7396ea",
   "outputs": [],
   "execution_count": 4
  },
  {
   "metadata": {},
   "cell_type": "markdown",
   "source": "# 기타 처리",
   "id": "5eafa2a3e98673ac"
  },
  {
   "metadata": {
    "ExecuteTime": {
     "end_time": "2025-06-21T04:39:38.623773Z",
     "start_time": "2025-06-21T04:39:38.621132Z"
    }
   },
   "cell_type": "code",
   "source": [
    "df = df.drop([\"f2\", \"f3\"], axis=1)\n",
    "df[\"f1\"] = df[\"f1\"].fillna(df[\"city\"].map({\"val1\": 1, \"val2\": 2}))"
   ],
   "id": "c4206bcf594f0fe4",
   "outputs": [],
   "execution_count": 5
  }
 ],
 "metadata": {
  "kernelspec": {
   "display_name": "Python 3",
   "language": "python",
   "name": "python3"
  },
  "language_info": {
   "codemirror_mode": {
    "name": "ipython",
    "version": 2
   },
   "file_extension": ".py",
   "mimetype": "text/x-python",
   "name": "python",
   "nbconvert_exporter": "python",
   "pygments_lexer": "ipython2",
   "version": "2.7.6"
  }
 },
 "nbformat": 4,
 "nbformat_minor": 5
}
