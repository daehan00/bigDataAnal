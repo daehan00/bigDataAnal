{
 "cells": [
  {
   "metadata": {},
   "cell_type": "markdown",
   "source": [
    "# 문제 풀이 프로세스\n",
    "\n",
    "1. 데이터 유형 파악\n",
    "df.info() => 메모장에 복붙\n",
    "2. 전처리\n",
    "  - X, y, train/test set으로 분리\n",
    "  - 분리된 shape 확인\n",
    "  - 결측치 처리\n",
    "  - 수치형 변수 스케일링(min_max, standard)\n",
    "  - 범주형 변수 인코딩\n",
    "3. 데이터 분리\n",
    "4. 모델 학습 및 검증\n",
    "5. 평가\n",
    "6. 결과 저장\n"
   ],
   "id": "46d7f9c79581819"
  },
  {
   "cell_type": "code",
   "id": "initial_id",
   "metadata": {
    "collapsed": true,
    "ExecuteTime": {
     "end_time": "2025-06-06T11:36:45.292716Z",
     "start_time": "2025-06-06T11:36:45.045270Z"
    }
   },
   "source": [
    "import pandas as pd\n",
    "\n",
    "train = pd.read_csv(\"../data/customer_train.csv\")\n",
    "test = pd.read_csv(\"../data/customer_test.csv\")"
   ],
   "outputs": [],
   "execution_count": 1
  },
  {
   "metadata": {
    "ExecuteTime": {
     "end_time": "2025-06-06T11:36:45.301683Z",
     "start_time": "2025-06-06T11:36:45.294288Z"
    }
   },
   "cell_type": "code",
   "source": "train.info()",
   "id": "a2804626ec04532d",
   "outputs": [
    {
     "name": "stdout",
     "output_type": "stream",
     "text": [
      "<class 'pandas.core.frame.DataFrame'>\n",
      "RangeIndex: 3500 entries, 0 to 3499\n",
      "Data columns (total 10 columns):\n",
      " #   Column   Non-Null Count  Dtype  \n",
      "---  ------   --------------  -----  \n",
      " 0   회원ID     3500 non-null   int64  \n",
      " 1   총구매액     3500 non-null   int64  \n",
      " 2   최대구매액    3500 non-null   int64  \n",
      " 3   환불금액     1205 non-null   float64\n",
      " 4   주구매상품    3500 non-null   object \n",
      " 5   주구매지점    3500 non-null   object \n",
      " 6   방문일수     3500 non-null   int64  \n",
      " 7   방문당구매건수  3500 non-null   float64\n",
      " 8   주말방문비율   3500 non-null   float64\n",
      " 9   구매주기     3500 non-null   int64  \n",
      "dtypes: float64(3), int64(5), object(2)\n",
      "memory usage: 273.6+ KB\n"
     ]
    }
   ],
   "execution_count": 2
  },
  {
   "metadata": {
    "ExecuteTime": {
     "end_time": "2025-06-06T11:36:45.312488Z",
     "start_time": "2025-06-06T11:36:45.303559Z"
    }
   },
   "cell_type": "code",
   "source": "test.info()",
   "id": "57451925ec721037",
   "outputs": [
    {
     "name": "stdout",
     "output_type": "stream",
     "text": [
      "<class 'pandas.core.frame.DataFrame'>\n",
      "RangeIndex: 2482 entries, 0 to 2481\n",
      "Data columns (total 10 columns):\n",
      " #   Column   Non-Null Count  Dtype  \n",
      "---  ------   --------------  -----  \n",
      " 0   회원ID     2482 non-null   int64  \n",
      " 1   총구매액     2482 non-null   int64  \n",
      " 2   최대구매액    2482 non-null   int64  \n",
      " 3   환불금액     871 non-null    float64\n",
      " 4   주구매상품    2482 non-null   object \n",
      " 5   주구매지점    2482 non-null   object \n",
      " 6   방문일수     2482 non-null   int64  \n",
      " 7   방문당구매건수  2482 non-null   float64\n",
      " 8   주말방문비율   2482 non-null   float64\n",
      " 9   구매주기     2482 non-null   int64  \n",
      "dtypes: float64(3), int64(5), object(2)\n",
      "memory usage: 194.0+ KB\n"
     ]
    }
   ],
   "execution_count": 3
  },
  {
   "metadata": {
    "ExecuteTime": {
     "end_time": "2025-06-06T11:36:46.704897Z",
     "start_time": "2025-06-06T11:36:45.315677Z"
    }
   },
   "cell_type": "code",
   "source": [
    "import pandas as pd\n",
    "\n",
    "train = pd.read_csv(\"../data/customer_train.csv\")\n",
    "test = pd.read_csv(\"../data/customer_test.csv\")\n",
    "\n",
    "X_train = train.drop([\"총구매액\"], axis=1)\n",
    "y_train = train[\"총구매액\"]\n",
    "\n",
    "X_test = test.drop([\"총구매액\"], axis=1)\n",
    "# print(X_train.shape, y_train.shape, X_test.shape)\n",
    "\n",
    "# print(X_train.isna().sum())\n",
    "X_train[\"환불금액\"] = X_train[\"환불금액\"].fillna(0)\n",
    "X_test[\"환불금액\"] = X_test[\"환불금액\"].fillna(0)\n",
    "\n",
    "X_train = X_train.drop([\"회원ID\"], axis=1)\n",
    "X_test = X_test.drop([\"회원ID\"], axis=1)\n",
    "\n",
    "from sklearn.preprocessing import StandardScaler, LabelEncoder\n",
    "scaler = StandardScaler()\n",
    "encoder = LabelEncoder()\n",
    "n_cols = X_train.select_dtypes(exclude=\"object\").columns\n",
    "s_cols = X_train.select_dtypes(include=\"object\").columns\n",
    "X_train[n_cols] = scaler.fit_transform(X_train[n_cols])\n",
    "X_test[n_cols] = scaler.transform(X_test[n_cols])\n",
    "\n",
    "for col in s_cols:\n",
    "    X_train[col] = encoder.fit_transform(X_train[col])\n",
    "    X_test[col] = encoder.transform(X_test[col])\n",
    "\n",
    "from sklearn.model_selection import train_test_split\n",
    "X_train, X_val, y_train, y_val = train_test_split(X_train, y_train, test_size=0.1)\n",
    "# print(X_train.shape, X_val.shape, y_train.shape, y_val.shape)\n",
    "\n",
    "from sklearn.ensemble import RandomForestRegressor, GradientBoostingRegressor\n",
    "model = RandomForestRegressor()\n",
    "model1 = GradientBoostingRegressor()\n",
    "model.fit(X_train, y_train)\n",
    "model1.fit(X_train, y_train)\n",
    "y_val_pred = model.predict(X_val)\n",
    "y_val_pred1 = model1.predict(X_val)\n",
    "\n",
    "from sklearn.metrics import root_mean_squared_error, accuracy_score\n",
    "rmse = root_mean_squared_error(y_val, y_val_pred)\n",
    "rmse1 = root_mean_squared_error(y_val, y_val_pred1)\n",
    "# acc = accuracy_score(y_val, y_val_pred)\n",
    "print(rmse, rmse1)\n",
    "\n",
    "y_pred = model.predict(X_test)\n",
    "result = pd.DataFrame(y_pred, columns=[\"pred\"])\n",
    "# result.to_csv(\"result.csv\")\n",
    "# \n",
    "# result = pd.read_csv(\"result.csv\")\n",
    "print(result.describe())"
   ],
   "id": "6020822e547688fa",
   "outputs": [
    {
     "name": "stdout",
     "output_type": "stream",
     "text": [
      "66709409.06944499 73921775.98312347\n",
      "               pred\n",
      "count  2.482000e+03\n",
      "mean   9.996649e+07\n",
      "std    1.459127e+08\n",
      "min   -2.030760e+06\n",
      "25%    6.023716e+06\n",
      "50%    3.647512e+07\n",
      "75%    1.438385e+08\n",
      "max    1.297926e+09\n"
     ]
    }
   ],
   "execution_count": 4
  },
  {
   "metadata": {
    "ExecuteTime": {
     "end_time": "2025-06-06T11:36:46.706571Z",
     "start_time": "2025-06-06T11:36:46.705390Z"
    }
   },
   "cell_type": "code",
   "source": " ",
   "id": "ee8991b7b4633776",
   "outputs": [],
   "execution_count": 4
  }
 ],
 "metadata": {
  "kernelspec": {
   "display_name": "Python 3",
   "language": "python",
   "name": "python3"
  },
  "language_info": {
   "codemirror_mode": {
    "name": "ipython",
    "version": 2
   },
   "file_extension": ".py",
   "mimetype": "text/x-python",
   "name": "python",
   "nbconvert_exporter": "python",
   "pygments_lexer": "ipython2",
   "version": "2.7.6"
  }
 },
 "nbformat": 4,
 "nbformat_minor": 5
}
