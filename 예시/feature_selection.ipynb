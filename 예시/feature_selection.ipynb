{
 "cells": [
  {
   "metadata": {
    "ExecuteTime": {
     "end_time": "2025-06-07T06:31:15.295442Z",
     "start_time": "2025-06-07T06:31:13.830189Z"
    }
   },
   "cell_type": "code",
   "source": [
    "import pandas as pd\n",
    "import numpy as np\n",
    "from sklearn.model_selection import train_test_split\n",
    "\n",
    "def exam_data_load(df, target, id_name=\"\", null_name=\"\"):\n",
    "    if id_name == \"\":\n",
    "        df = df.reset_index().rename(columns={\"index\": \"id\"})\n",
    "        id_name = 'id'\n",
    "    else:\n",
    "        id_name = id_name\n",
    "    \n",
    "    if null_name != \"\":\n",
    "        df[df == null_name] = np.nan\n",
    "    \n",
    "    X_train, X_test = train_test_split(df, test_size=0.2, random_state=2021)\n",
    "    \n",
    "    y_train = X_train[[id_name, target]]\n",
    "    X_train = X_train.drop(columns=[target])\n",
    "\n",
    "    \n",
    "    y_test = X_test[[id_name, target]]\n",
    "    X_test = X_test.drop(columns=[target])\n",
    "    return X_train, X_test, y_train, y_test\n",
    "\n",
    "df = pd.read_csv(\"../data/2_Train.csv\")\n",
    "X_train, X_test, y_train, y_test = exam_data_load(df, target='Reached.on.Time_Y.N', id_name='ID')\n",
    "\n",
    "print(X_train.shape, X_test.shape, y_train.shape, y_test.shape)\n",
    "\n",
    "X_train.info()\n",
    "y_train.info()"
   ],
   "id": "initial_id",
   "outputs": [
    {
     "name": "stdout",
     "output_type": "stream",
     "text": [
      "(8799, 11) (2200, 11) (8799, 2) (2200, 2)\n",
      "<class 'pandas.core.frame.DataFrame'>\n",
      "Index: 8799 entries, 3999 to 9332\n",
      "Data columns (total 11 columns):\n",
      " #   Column               Non-Null Count  Dtype \n",
      "---  ------               --------------  ----- \n",
      " 0   ID                   8799 non-null   int64 \n",
      " 1   Warehouse_block      8799 non-null   object\n",
      " 2   Mode_of_Shipment     8799 non-null   object\n",
      " 3   Customer_care_calls  8799 non-null   int64 \n",
      " 4   Customer_rating      8799 non-null   int64 \n",
      " 5   Cost_of_the_Product  8799 non-null   int64 \n",
      " 6   Prior_purchases      8799 non-null   int64 \n",
      " 7   Product_importance   8799 non-null   object\n",
      " 8   Gender               8799 non-null   object\n",
      " 9   Discount_offered     8799 non-null   int64 \n",
      " 10  Weight_in_gms        8799 non-null   int64 \n",
      "dtypes: int64(7), object(4)\n",
      "memory usage: 824.9+ KB\n",
      "<class 'pandas.core.frame.DataFrame'>\n",
      "Index: 8799 entries, 3999 to 9332\n",
      "Data columns (total 2 columns):\n",
      " #   Column               Non-Null Count  Dtype\n",
      "---  ------               --------------  -----\n",
      " 0   ID                   8799 non-null   int64\n",
      " 1   Reached.on.Time_Y.N  8799 non-null   int64\n",
      "dtypes: int64(2)\n",
      "memory usage: 206.2 KB\n"
     ]
    }
   ],
   "execution_count": 1
  },
  {
   "metadata": {},
   "cell_type": "markdown",
   "source": [
    "# 범주형 변수 인코딩\n",
    "\n",
    "| 방식                   | 특징                                                             | 사용해야 하는 상황/주의점                                                                                                                                       |\n",
    "| -------------------- | -------------------------------------------------------------- | ---------------------------------------------------------------------------------------------------------------------------------------------------- |\n",
    "| **Label Encoding**   | - 각 고유값에 **순서 없이** 0, 1, 2, ... 등 숫자 할당<br>- 값에 **숫자 간 의미 없음** | - 트리 계열(Decision Tree, RandomForest 등)에서 범주형 변수 인코딩 시<br>- **순서 의미가 필요 없는** 단순 범주형 변수<br>- \\*\\*선형 모델(회귀/로지스틱)\\*\\*에는 사용하면 안 됨(숫자에 순서/크기 의미가 생겨 성능 저하) |\n",
    "| **One-Hot Encoding** | - 각 고유값을 \\*\\*각각의 컬럼(더미 변수)\\*\\*로 분리, 0/1로 표시<br>- **변수 수가 늘어남** | - **범주형 변수에 순서가 없고**, 각 값이 동등할 때(성별, 지역 등)<br>- 대부분의 머신러닝 모델에 안전하게 사용 가능<br>- 값 종류가 너무 많으면 차원 폭발(High Cardinality) 문제 주의                             |\n",
    "| **Ordinal Encoding** | - **순서가 있는** 범주형 변수에 직접 지정한 순서대로 0, 1, 2 등 숫자 할당<br>- 순서 정보 반영 | - **명확한 순서**가 있는 범주형 변수(등급, 우선순위, 크기 등)<br>- 순서 정보가 모델에 중요한 경우(선형 회귀 등에서 유리)                                                                         |\n"
   ],
   "id": "a46e1cdefa5a06a0"
  },
  {
   "metadata": {
    "ExecuteTime": {
     "end_time": "2025-06-07T06:31:15.315464Z",
     "start_time": "2025-06-07T06:31:15.296715Z"
    }
   },
   "cell_type": "code",
   "source": [
    "# label-encoding\n",
    "df = pd.read_csv(\"../data/2_Train.csv\")\n",
    "X_train, X_test, y_train, y_test = exam_data_load(df, target='Reached.on.Time_Y.N', id_name='ID')\n",
    "\n",
    "s_col = X_train.select_dtypes(include=\"object\").columns\n",
    "n_col = X_train.select_dtypes(exclude=\"object\").columns\n",
    "\n",
    "from sklearn.preprocessing import LabelEncoder\n",
    "\n",
    "encoder = LabelEncoder()\n",
    "\n",
    "for col in s_col:\n",
    "    X_train[col] = encoder.fit_transform(X_train[col])\n",
    "    X_test[col] = encoder.transform(X_test[col])"
   ],
   "id": "284d98375dbed882",
   "outputs": [],
   "execution_count": 2
  },
  {
   "metadata": {
    "ExecuteTime": {
     "end_time": "2025-06-07T06:31:15.343261Z",
     "start_time": "2025-06-07T06:31:15.316191Z"
    }
   },
   "cell_type": "code",
   "source": [
    "# one-hot-encoding\n",
    "df = pd.read_csv(\"../data/2_Train.csv\")\n",
    "X_train, X_test, y_train, y_test = exam_data_load(df, target='Reached.on.Time_Y.N', id_name='ID')\n",
    "s_col = X_train.select_dtypes(include=\"object\").columns\n",
    "n_col = X_train.select_dtypes(exclude=\"object\").columns\n",
    "\n",
    "from sklearn.preprocessing import OneHotEncoder\n",
    "encoder = OneHotEncoder()\n",
    "\n",
    "encoded = encoder.fit_transform(X_train[s_col]).toarray()\n",
    "en_df = pd.DataFrame(encoded, columns=encoder.get_feature_names_out(s_col))\n",
    "X_train = pd.concat([X_train.drop(s_col, axis=1), en_df], axis=1)\n",
    "print(X_train.info())\n",
    "\n",
    "encoded = encoder.transform(X_test[s_col]).toarray()\n",
    "en_df = pd.DataFrame(encoded, columns=encoder.get_feature_names_out(s_col))\n",
    "X_test = pd.concat([X_test.drop(s_col, axis=1), en_df], axis=1)"
   ],
   "id": "3903283a16aa7232",
   "outputs": [
    {
     "name": "stdout",
     "output_type": "stream",
     "text": [
      "<class 'pandas.core.frame.DataFrame'>\n",
      "Index: 10541 entries, 3999 to 8785\n",
      "Data columns (total 20 columns):\n",
      " #   Column                     Non-Null Count  Dtype  \n",
      "---  ------                     --------------  -----  \n",
      " 0   ID                         8799 non-null   float64\n",
      " 1   Customer_care_calls        8799 non-null   float64\n",
      " 2   Customer_rating            8799 non-null   float64\n",
      " 3   Cost_of_the_Product        8799 non-null   float64\n",
      " 4   Prior_purchases            8799 non-null   float64\n",
      " 5   Discount_offered           8799 non-null   float64\n",
      " 6   Weight_in_gms              8799 non-null   float64\n",
      " 7   Warehouse_block_A          8799 non-null   float64\n",
      " 8   Warehouse_block_B          8799 non-null   float64\n",
      " 9   Warehouse_block_C          8799 non-null   float64\n",
      " 10  Warehouse_block_D          8799 non-null   float64\n",
      " 11  Warehouse_block_F          8799 non-null   float64\n",
      " 12  Mode_of_Shipment_Flight    8799 non-null   float64\n",
      " 13  Mode_of_Shipment_Road      8799 non-null   float64\n",
      " 14  Mode_of_Shipment_Ship      8799 non-null   float64\n",
      " 15  Product_importance_high    8799 non-null   float64\n",
      " 16  Product_importance_low     8799 non-null   float64\n",
      " 17  Product_importance_medium  8799 non-null   float64\n",
      " 18  Gender_F                   8799 non-null   float64\n",
      " 19  Gender_M                   8799 non-null   float64\n",
      "dtypes: float64(20)\n",
      "memory usage: 1.7 MB\n",
      "None\n"
     ]
    }
   ],
   "execution_count": 3
  },
  {
   "metadata": {
    "ExecuteTime": {
     "end_time": "2025-06-07T06:31:15.362774Z",
     "start_time": "2025-06-07T06:31:15.344786Z"
    }
   },
   "cell_type": "code",
   "source": [
    "# ordinal-encoding\n",
    "df = pd.read_csv(\"../data/2_Train.csv\")\n",
    "X_train, X_test, y_train, y_test = exam_data_load(df, target='Reached.on.Time_Y.N', id_name='ID')\n",
    "s_col = X_train.select_dtypes(include=\"object\").columns\n",
    "n_col = X_train.select_dtypes(exclude=\"object\").columns\n",
    "\n",
    "from sklearn.preprocessing import OrdinalEncoder\n",
    "encoder = OrdinalEncoder(categories=[[\"high\", \"medium\", \"low\"], [\"F\", \"M\"]])\n",
    "\n",
    "X_train[[\"Product_importance\", \"Gender\"]] = encoder.fit_transform(X_train[[\"Product_importance\", \"Gender\"]])\n",
    "X_test[[\"Product_importance\", \"Gender\"]] = encoder.transform(X_test[[\"Product_importance\", \"Gender\"]])"
   ],
   "id": "6e7c252d0c50fdaa",
   "outputs": [],
   "execution_count": 4
  },
  {
   "metadata": {},
   "cell_type": "markdown",
   "source": [
    "# 숫자형 변수 스케일링\n",
    "\n",
    "| 방식                   | sklearn 함수/클래스   | 특징 및 사용 상황                                               |\n",
    "| -------------------- | ---------------- | -------------------------------------------------------- |\n",
    "| **Min-Max Scaling**  | `MinMaxScaler`   | 0\\~1 범위로 변환<br>극단값(이상치)에 민감<br>딥러닝/신경망, 이미지 처리 등에서 자주 사용 |\n",
    "| **Standard Scaling** | `StandardScaler` | 평균 0, 표준편차 1로 변환(정규화)<br>이상치의 영향 있음<br>선형모델, PCA 등에서 활용  |\n",
    "| **Robust Scaling**   | `RobustScaler`   | 중앙값(중앙값 0)과 IQR로 변환<br>이상치 영향 최소화                        |\n",
    "| **MaxAbs Scaling**   | `MaxAbsScaler`   | -1\\~1 범위로 변환(음수 포함 데이터에 적합)<br>희소 행렬(sparse data)에 적합    |\n",
    "| **Normalizer**       | `Normalizer`     | 각 샘플(행)별로 벡터의 길이가 1이 되도록 변환(개별 피처가 아니라 샘플 전체 정규화)        |\n"
   ],
   "id": "97236e1336a62645"
  },
  {
   "metadata": {
    "ExecuteTime": {
     "end_time": "2025-06-07T06:31:15.379850Z",
     "start_time": "2025-06-07T06:31:15.363675Z"
    }
   },
   "cell_type": "code",
   "source": [
    "df = pd.read_csv(\"../data/2_Train.csv\")\n",
    "X_train, X_test, y_train, y_test = exam_data_load(df, target='Reached.on.Time_Y.N', id_name='ID')\n",
    "s_col = X_train.select_dtypes(include=\"object\").columns\n",
    "n_col = X_train.select_dtypes(exclude=\"object\").columns\n",
    "\n",
    "for col in n_col:\n",
    "    print(col, X_train[col].skew())"
   ],
   "id": "c06b86c9cd697efe",
   "outputs": [
    {
     "name": "stdout",
     "output_type": "stream",
     "text": [
      "ID 0.008133293695891518\n",
      "Customer_care_calls 0.3949356694303243\n",
      "Customer_rating 0.005080151359232916\n",
      "Cost_of_the_Product -0.1483342088338509\n",
      "Prior_purchases 1.6963061584555015\n",
      "Discount_offered 1.7617689795888485\n",
      "Weight_in_gms -0.23349804462110674\n"
     ]
    }
   ],
   "execution_count": 5
  },
  {
   "metadata": {
    "ExecuteTime": {
     "end_time": "2025-06-07T06:31:15.383267Z",
     "start_time": "2025-06-07T06:31:15.380759Z"
    }
   },
   "cell_type": "code",
   "source": "",
   "id": "354b9e8f2774825a",
   "outputs": [],
   "execution_count": 5
  }
 ],
 "metadata": {
  "kernelspec": {
   "display_name": "Python 3",
   "language": "python",
   "name": "python3"
  },
  "language_info": {
   "codemirror_mode": {
    "name": "ipython",
    "version": 2
   },
   "file_extension": ".py",
   "mimetype": "text/x-python",
   "name": "python",
   "nbconvert_exporter": "python",
   "pygments_lexer": "ipython2",
   "version": "2.7.6"
  }
 },
 "nbformat": 4,
 "nbformat_minor": 5
}
