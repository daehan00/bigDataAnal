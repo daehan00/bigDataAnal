{
 "cells": [
  {
   "metadata": {},
   "cell_type": "markdown",
   "source": [
    "# 2회 기출\n",
    "\n",
    "전자상거래 배송 데이터\n",
    "\n",
    "제품 배송 시간에 맞춰 배송되었는지 예측모델 만들기\n",
    "\n",
    "학습용 데이터 (X_train, y_train)을 이용하여 배송 예측 모형을 만든 후, 이를 평가용 데이터(X_test)에 적용하여 얻은 예측 확률값을 다음과 같은 형식의 CSV파일로 생성하시오(제출한 모델의 성능은 ROC-AUC 평가지표에 따라 채점)\n",
    "\n",
    "ID, Reached.on.Time_Y.N\n",
    "4733,0.6\n",
    "2040,0.8\n",
    "5114,0.45\n",
    "2361,0.23\n",
    "5996,0.43\n",
    "[시험용 데이터셋 만들기] 코드는 예시문제와 동일한 형태의 X_train, y_train, X_test 데이터를 만들기 위함임\n",
    "\n",
    "(유의사항)\n",
    "\n",
    "성능이 우수한 예측모형을 구축하기 위해서는 적절한 데이터 전처리, 피처엔지니어링, 분류알고리즘, 하이퍼파라미터 튜닝, 모형 앙상블 등이 수반되어야 한다.\n",
    "수험번호.csv파일이 만들어지도록 코드를 제출한다.\n",
    "제출한 모델의 성능은 ROC-AUC형태로 읽어들인다."
   ],
   "id": "d843eaf242966299"
  },
  {
   "metadata": {},
   "cell_type": "markdown",
   "source": "",
   "id": "508ee91424e623c9"
  },
  {
   "cell_type": "code",
   "id": "initial_id",
   "metadata": {
    "collapsed": true,
    "ExecuteTime": {
     "end_time": "2025-06-06T11:36:01.448620Z",
     "start_time": "2025-06-06T11:36:00.762805Z"
    }
   },
   "source": [
    "# 시험환경 세팅 (코드 변경 X)\n",
    "import pandas as pd\n",
    "import numpy as np\n",
    "from sklearn.model_selection import train_test_split\n",
    "\n",
    "def exam_data_load(df, target, id_name=\"\", null_name=\"\"):\n",
    "    if id_name == \"\":\n",
    "        df = df.reset_index().rename(columns={\"index\": \"id\"})\n",
    "        id_name = 'id'\n",
    "    else:\n",
    "        id_name = id_name\n",
    "    \n",
    "    if null_name != \"\":\n",
    "        df[df == null_name] = np.nan\n",
    "    \n",
    "    X_train, X_test = train_test_split(df, test_size=0.2, random_state=2021)\n",
    "    \n",
    "    y_train = X_train[[id_name, target]]\n",
    "    X_train = X_train.drop(columns=[target])\n",
    "\n",
    "    \n",
    "    y_test = X_test[[id_name, target]]\n",
    "    X_test = X_test.drop(columns=[target])\n",
    "    return X_train, X_test, y_train, y_test \n",
    "    \n",
    "df = pd.read_csv(\"../data/2_Train.csv\")\n",
    "X_train, X_test, y_train, y_test = exam_data_load(df, target='Reached.on.Time_Y.N', id_name='ID')\n",
    "\n",
    "X_train.shape, X_test.shape, y_train.shape, y_test.shape"
   ],
   "outputs": [
    {
     "data": {
      "text/plain": [
       "((8799, 11), (2200, 11), (8799, 2), (2200, 2))"
      ]
     },
     "execution_count": 1,
     "metadata": {},
     "output_type": "execute_result"
    }
   ],
   "execution_count": 1
  },
  {
   "metadata": {
    "ExecuteTime": {
     "end_time": "2025-06-06T11:36:01.453894Z",
     "start_time": "2025-06-06T11:36:01.449519Z"
    }
   },
   "cell_type": "code",
   "source": "X_train.head()",
   "id": "6858c4a5ca50db4f",
   "outputs": [
    {
     "data": {
      "text/plain": [
       "        ID Warehouse_block Mode_of_Shipment  Customer_care_calls  \\\n",
       "3999  4000               B             Ship                    3   \n",
       "9559  9560               F             Ship                    4   \n",
       "2649  2650               B             Ship                    2   \n",
       "4843  4844               F             Ship                    6   \n",
       "9601  9602               F           Flight                    3   \n",
       "\n",
       "      Customer_rating  Cost_of_the_Product  Prior_purchases  \\\n",
       "3999                4                  134                3   \n",
       "9559                3                  173                3   \n",
       "2649                1                  192                3   \n",
       "4843                5                  284                4   \n",
       "9601                1                  246                3   \n",
       "\n",
       "     Product_importance Gender  Discount_offered  Weight_in_gms  \n",
       "3999               high      F                 6           5680  \n",
       "9559             medium      M                 5           5331  \n",
       "2649               high      M                46           3206  \n",
       "4843             medium      M                 8           5346  \n",
       "9601                low      F                10           4707  "
      ],
      "text/html": [
       "<div>\n",
       "<style scoped>\n",
       "    .dataframe tbody tr th:only-of-type {\n",
       "        vertical-align: middle;\n",
       "    }\n",
       "\n",
       "    .dataframe tbody tr th {\n",
       "        vertical-align: top;\n",
       "    }\n",
       "\n",
       "    .dataframe thead th {\n",
       "        text-align: right;\n",
       "    }\n",
       "</style>\n",
       "<table border=\"1\" class=\"dataframe\">\n",
       "  <thead>\n",
       "    <tr style=\"text-align: right;\">\n",
       "      <th></th>\n",
       "      <th>ID</th>\n",
       "      <th>Warehouse_block</th>\n",
       "      <th>Mode_of_Shipment</th>\n",
       "      <th>Customer_care_calls</th>\n",
       "      <th>Customer_rating</th>\n",
       "      <th>Cost_of_the_Product</th>\n",
       "      <th>Prior_purchases</th>\n",
       "      <th>Product_importance</th>\n",
       "      <th>Gender</th>\n",
       "      <th>Discount_offered</th>\n",
       "      <th>Weight_in_gms</th>\n",
       "    </tr>\n",
       "  </thead>\n",
       "  <tbody>\n",
       "    <tr>\n",
       "      <th>3999</th>\n",
       "      <td>4000</td>\n",
       "      <td>B</td>\n",
       "      <td>Ship</td>\n",
       "      <td>3</td>\n",
       "      <td>4</td>\n",
       "      <td>134</td>\n",
       "      <td>3</td>\n",
       "      <td>high</td>\n",
       "      <td>F</td>\n",
       "      <td>6</td>\n",
       "      <td>5680</td>\n",
       "    </tr>\n",
       "    <tr>\n",
       "      <th>9559</th>\n",
       "      <td>9560</td>\n",
       "      <td>F</td>\n",
       "      <td>Ship</td>\n",
       "      <td>4</td>\n",
       "      <td>3</td>\n",
       "      <td>173</td>\n",
       "      <td>3</td>\n",
       "      <td>medium</td>\n",
       "      <td>M</td>\n",
       "      <td>5</td>\n",
       "      <td>5331</td>\n",
       "    </tr>\n",
       "    <tr>\n",
       "      <th>2649</th>\n",
       "      <td>2650</td>\n",
       "      <td>B</td>\n",
       "      <td>Ship</td>\n",
       "      <td>2</td>\n",
       "      <td>1</td>\n",
       "      <td>192</td>\n",
       "      <td>3</td>\n",
       "      <td>high</td>\n",
       "      <td>M</td>\n",
       "      <td>46</td>\n",
       "      <td>3206</td>\n",
       "    </tr>\n",
       "    <tr>\n",
       "      <th>4843</th>\n",
       "      <td>4844</td>\n",
       "      <td>F</td>\n",
       "      <td>Ship</td>\n",
       "      <td>6</td>\n",
       "      <td>5</td>\n",
       "      <td>284</td>\n",
       "      <td>4</td>\n",
       "      <td>medium</td>\n",
       "      <td>M</td>\n",
       "      <td>8</td>\n",
       "      <td>5346</td>\n",
       "    </tr>\n",
       "    <tr>\n",
       "      <th>9601</th>\n",
       "      <td>9602</td>\n",
       "      <td>F</td>\n",
       "      <td>Flight</td>\n",
       "      <td>3</td>\n",
       "      <td>1</td>\n",
       "      <td>246</td>\n",
       "      <td>3</td>\n",
       "      <td>low</td>\n",
       "      <td>F</td>\n",
       "      <td>10</td>\n",
       "      <td>4707</td>\n",
       "    </tr>\n",
       "  </tbody>\n",
       "</table>\n",
       "</div>"
      ]
     },
     "execution_count": 2,
     "metadata": {},
     "output_type": "execute_result"
    }
   ],
   "execution_count": 2
  },
  {
   "metadata": {
    "ExecuteTime": {
     "end_time": "2025-06-06T11:36:01.457971Z",
     "start_time": "2025-06-06T11:36:01.454465Z"
    }
   },
   "cell_type": "code",
   "source": [
    "# object 타입 컬럼, 고유값 개수 확인\n",
    "X_train[['Warehouse_block', 'Mode_of_Shipment', 'Product_importance', 'Gender']].nunique()"
   ],
   "id": "3c6346eccc3df2ee",
   "outputs": [
    {
     "data": {
      "text/plain": [
       "Warehouse_block       5\n",
       "Mode_of_Shipment      3\n",
       "Product_importance    3\n",
       "Gender                2\n",
       "dtype: int64"
      ]
     },
     "execution_count": 3,
     "metadata": {},
     "output_type": "execute_result"
    }
   ],
   "execution_count": 3
  },
  {
   "metadata": {
    "ExecuteTime": {
     "end_time": "2025-06-06T11:36:01.459624Z",
     "start_time": "2025-06-06T11:36:01.458468Z"
    }
   },
   "cell_type": "code",
   "source": "",
   "id": "2a75b05d04d0cb0f",
   "outputs": [],
   "execution_count": 3
  }
 ],
 "metadata": {
  "kernelspec": {
   "display_name": "Python 3",
   "language": "python",
   "name": "python3"
  },
  "language_info": {
   "codemirror_mode": {
    "name": "ipython",
    "version": 2
   },
   "file_extension": ".py",
   "mimetype": "text/x-python",
   "name": "python",
   "nbconvert_exporter": "python",
   "pygments_lexer": "ipython2",
   "version": "2.7.6"
  }
 },
 "nbformat": 4,
 "nbformat_minor": 5
}
