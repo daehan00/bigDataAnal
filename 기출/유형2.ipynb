{
 "cells": [
  {
   "metadata": {},
   "cell_type": "markdown",
   "source": [
    "# 2회 기출\n",
    "\n",
    "전자상거래 배송 데이터\n",
    "\n",
    "제품 배송 시간에 맞춰 배송되었는지 예측모델 만들기\n",
    "\n",
    "학습용 데이터 (X_train, y_train)을 이용하여 배송 예측 모형을 만든 후, 이를 평가용 데이터(X_test)에 적용하여 얻은 예측 확률값을 다음과 같은 형식의 CSV파일로 생성하시오(제출한 모델의 성능은 ROC-AUC 평가지표에 따라 채점)\n",
    "\n",
    "ID, Reached.on.Time_Y.N\n",
    "4733,0.6\n",
    "2040,0.8\n",
    "5114,0.45\n",
    "2361,0.23\n",
    "5996,0.43\n",
    "[시험용 데이터셋 만들기] 코드는 예시문제와 동일한 형태의 X_train, y_train, X_test 데이터를 만들기 위함임\n",
    "\n",
    "(유의사항)\n",
    "\n",
    "성능이 우수한 예측모형을 구축하기 위해서는 적절한 데이터 전처리, 피처엔지니어링, 분류알고리즘, 하이퍼파라미터 튜닝, 모형 앙상블 등이 수반되어야 한다.\n",
    "수험번호.csv파일이 만들어지도록 코드를 제출한다.\n",
    "제출한 모델의 성능은 ROC-AUC형태로 읽어들인다."
   ],
   "id": "d843eaf242966299"
  },
  {
   "metadata": {},
   "cell_type": "markdown",
   "source": "",
   "id": "508ee91424e623c9"
  },
  {
   "cell_type": "code",
   "id": "initial_id",
   "metadata": {
    "collapsed": true,
    "ExecuteTime": {
     "end_time": "2025-06-07T06:35:54.318214Z",
     "start_time": "2025-06-07T06:35:53.099650Z"
    }
   },
   "source": [
    "# 시험환경 세팅 (코드 변경 X)\n",
    "import pandas as pd\n",
    "import numpy as np\n",
    "from sklearn.model_selection import train_test_split\n",
    "\n",
    "def exam_data_load(df, target, id_name=\"\", null_name=\"\"):\n",
    "    if id_name == \"\":\n",
    "        df = df.reset_index().rename(columns={\"index\": \"id\"})\n",
    "        id_name = 'id'\n",
    "    else:\n",
    "        id_name = id_name\n",
    "    \n",
    "    if null_name != \"\":\n",
    "        df[df == null_name] = np.nan\n",
    "    \n",
    "    X_train, X_test = train_test_split(df, test_size=0.2, random_state=2021)\n",
    "    \n",
    "    y_train = X_train[[id_name, target]]\n",
    "    X_train = X_train.drop(columns=[target])\n",
    "\n",
    "    \n",
    "    y_test = X_test[[id_name, target]]\n",
    "    X_test = X_test.drop(columns=[target])\n",
    "    return X_train, X_test, y_train, y_test \n",
    "    "
   ],
   "outputs": [],
   "execution_count": 1
  },
  {
   "metadata": {
    "ExecuteTime": {
     "end_time": "2025-06-07T06:35:54.339723Z",
     "start_time": "2025-06-07T06:35:54.319488Z"
    }
   },
   "cell_type": "code",
   "source": [
    "df = pd.read_csv(\"../data/2_Train.csv\")\n",
    "X_train, X_test, y_train, y_test = exam_data_load(df, target='Reached.on.Time_Y.N', id_name='ID')\n",
    "\n",
    "print(X_train.shape, X_test.shape, y_train.shape, y_test.shape)\n",
    "\n",
    "X_train.info()\n",
    "y_train.info()"
   ],
   "id": "6858c4a5ca50db4f",
   "outputs": [
    {
     "name": "stdout",
     "output_type": "stream",
     "text": [
      "(8799, 11) (2200, 11) (8799, 2) (2200, 2)\n",
      "<class 'pandas.core.frame.DataFrame'>\n",
      "Index: 8799 entries, 3999 to 9332\n",
      "Data columns (total 11 columns):\n",
      " #   Column               Non-Null Count  Dtype \n",
      "---  ------               --------------  ----- \n",
      " 0   ID                   8799 non-null   int64 \n",
      " 1   Warehouse_block      8799 non-null   object\n",
      " 2   Mode_of_Shipment     8799 non-null   object\n",
      " 3   Customer_care_calls  8799 non-null   int64 \n",
      " 4   Customer_rating      8799 non-null   int64 \n",
      " 5   Cost_of_the_Product  8799 non-null   int64 \n",
      " 6   Prior_purchases      8799 non-null   int64 \n",
      " 7   Product_importance   8799 non-null   object\n",
      " 8   Gender               8799 non-null   object\n",
      " 9   Discount_offered     8799 non-null   int64 \n",
      " 10  Weight_in_gms        8799 non-null   int64 \n",
      "dtypes: int64(7), object(4)\n",
      "memory usage: 824.9+ KB\n",
      "<class 'pandas.core.frame.DataFrame'>\n",
      "Index: 8799 entries, 3999 to 9332\n",
      "Data columns (total 2 columns):\n",
      " #   Column               Non-Null Count  Dtype\n",
      "---  ------               --------------  -----\n",
      " 0   ID                   8799 non-null   int64\n",
      " 1   Reached.on.Time_Y.N  8799 non-null   int64\n",
      "dtypes: int64(2)\n",
      "memory usage: 206.2 KB\n"
     ]
    }
   ],
   "execution_count": 2
  },
  {
   "metadata": {
    "ExecuteTime": {
     "end_time": "2025-06-07T06:36:09.796603Z",
     "start_time": "2025-06-07T06:36:09.082511Z"
    }
   },
   "cell_type": "code",
   "source": [
    "df = pd.read_csv(\"../data/2_Train.csv\")\n",
    "X_train, X_test, y_train, y_test = exam_data_load(df, target='Reached.on.Time_Y.N', id_name='ID')\n",
    "\n",
    "# feature selection\n",
    "X_train.head()\n",
    "\n",
    "X_train = X_train.drop(\"ID\", axis=1)\n",
    "y_train = y_train.drop(\"ID\", axis=1)\n",
    "y_train = y_train.squeeze()\n",
    "\n",
    "ordinal_col = [\"Product_importance\"]\n",
    "s_col = X_train.select_dtypes(include=\"object\").columns\n",
    "n_col = X_train.select_dtypes(exclude=\"object\").columns\n",
    "\n",
    "from sklearn.preprocessing import MinMaxScaler, OneHotEncoder\n",
    "scaler = MinMaxScaler()\n",
    "encoder = OneHotEncoder()\n",
    "\n",
    "X_train[n_col] = scaler.fit_transform(X_train[n_col])\n",
    "X_test[n_col] = scaler.transform(X_test[n_col])\n",
    "\n",
    "encoded = encoder.fit_transform(X_train[s_col]).toarray()\n",
    "en_df = pd.DataFrame(encoded, columns=encoder.get_feature_names_out(s_col), index=X_train.index)\n",
    "X_train = pd.concat([X_train.drop(s_col, axis=1), en_df], axis=1)\n",
    "\n",
    "encoded = encoder.transform(X_test[s_col]).toarray()\n",
    "en_df = pd.DataFrame(encoded, columns=encoder.get_feature_names_out(s_col), index=X_test.index)\n",
    "X_test = pd.concat([X_test.drop(s_col, axis=1), en_df], axis=1)\n",
    "\n",
    "# train validation set split\n",
    "from sklearn.model_selection import train_test_split\n",
    "\n",
    "X_train, X_val, y_train, y_val = train_test_split(X_train, y_train, test_size=0.2)\n",
    "\n",
    "print(X_train.shape, X_val.shape, y_train.shape, y_val.shape)\n",
    "\n",
    "# modeling\n",
    "from sklearn.ensemble import RandomForestClassifier\n",
    "\n",
    "model = RandomForestClassifier()\n",
    "model.fit(X_train, y_train)\n",
    "y_val_pred = model.predict(X_val)\n",
    "\n",
    "from sklearn.metrics import roc_auc_score, accuracy_score\n",
    "\n",
    "roc_score = roc_auc_score(y_val, y_val_pred)\n",
    "acc_score = accuracy_score(y_val, y_val_pred)\n",
    "\n",
    "print(roc_score, acc_score)\n",
    "\n",
    "y_test_proba = model.predict_proba(X_test.drop(\"ID\", axis=1))[:,-1]\n",
    "\n",
    "result = pd.DataFrame({\"ID\":X_test[\"ID\"].reset_index(drop=True), \"Reached.on.Time_Y.N\":y_test_proba})\n",
    "print(result.describe())"
   ],
   "id": "2a75b05d04d0cb0f",
   "outputs": [
    {
     "name": "stdout",
     "output_type": "stream",
     "text": [
      "(7039, 19) (1760, 19) (7039,) (1760,)\n",
      "0.678275180768612 0.6647727272727273\n",
      "                 ID  Reached.on.Time_Y.N\n",
      "count   2200.000000          2200.000000\n",
      "mean    5617.505000             0.578527\n",
      "std     3154.909089             0.256034\n",
      "min        2.000000             0.130000\n",
      "25%     2940.750000             0.390000\n",
      "50%     5566.500000             0.490000\n",
      "75%     8406.250000             0.820000\n",
      "max    10993.000000             1.000000\n"
     ]
    }
   ],
   "execution_count": 4
  },
  {
   "metadata": {
    "ExecuteTime": {
     "end_time": "2025-06-07T06:35:55.247846Z",
     "start_time": "2025-06-07T06:35:55.246371Z"
    }
   },
   "cell_type": "code",
   "source": "",
   "id": "a2fb82fdac87069",
   "outputs": [],
   "execution_count": 3
  }
 ],
 "metadata": {
  "kernelspec": {
   "display_name": "Python 3",
   "language": "python",
   "name": "python3"
  },
  "language_info": {
   "codemirror_mode": {
    "name": "ipython",
    "version": 2
   },
   "file_extension": ".py",
   "mimetype": "text/x-python",
   "name": "python",
   "nbconvert_exporter": "python",
   "pygments_lexer": "ipython2",
   "version": "2.7.6"
  }
 },
 "nbformat": 4,
 "nbformat_minor": 5
}
