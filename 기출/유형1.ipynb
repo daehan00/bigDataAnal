{
 "cells": [
  {
   "metadata": {},
   "cell_type": "markdown",
   "source": [
    "# 작업형 1 예시문제\n",
    "\n",
    "작업형1 예시문제\n",
    "자동차 데이터 셋에서 qsec 컬럼을 Min-Max Scale로 변환 후 0.5보다 큰 값을 가지는 레코드(row) 수를 묻는 문제입니다."
   ],
   "id": "b022d9c96010918e"
  },
  {
   "cell_type": "code",
   "id": "initial_id",
   "metadata": {
    "collapsed": true,
    "ExecuteTime": {
     "end_time": "2025-06-03T06:32:55.096452Z",
     "start_time": "2025-06-03T06:32:55.090527Z"
    }
   },
   "source": [
    "import pandas as pd\n",
    "\n",
    "df = pd.read_csv(\"data/mtcars.csv\")\n",
    "\n",
    "df['qsec_minmax_scale'] = (df['qsec'] - min(df['qsec'])) / (max(df['qsec']) - min(df['qsec']))\n",
    "\n",
    "print(len(df[df['qsec_minmax_scale'] > 0.5]))"
   ],
   "outputs": [
    {
     "name": "stdout",
     "output_type": "stream",
     "text": [
      "9\n"
     ]
    }
   ],
   "execution_count": 14
  },
  {
   "metadata": {},
   "cell_type": "markdown",
   "source": [
    "# 2회 기출유형\n",
    "\n",
    "문제1\n",
    "데이터셋(basic1.csv)의 'f5' 컬럼을 기준으로 상위 10개의 데이터를 구하고,\n",
    "'f5'컬럼 10개 중 최소값으로 데이터를 대체한 후,\n",
    "'age'컬럼에서 80 이상인 데이터의'f5 컬럼 평균값 구하기\n",
    "\n",
    "문제2\n",
    "데이터셋(basic1.csv)의 앞에서 순서대로 70% 데이터만 활용해서,\n",
    "'f1'컬럼 결측치를 중앙값으로 채우기 전후의 표준편차를 구하고\n",
    "두 표준편차 차이 계산하기\n",
    "\n",
    "문제3\n",
    "데이터셋(basic1.csv)의 'age'컬럼의 이상치를 더하시오!\n",
    "단, 평균으로부터 '표준편차*1.5'를 벗어나는 영역을 이상치라고 판단함"
   ],
   "id": "35067390847f792f"
  },
  {
   "metadata": {
    "ExecuteTime": {
     "end_time": "2025-06-03T06:49:10.511715Z",
     "start_time": "2025-06-03T06:49:10.507596Z"
    }
   },
   "cell_type": "code",
   "source": "df = pd.read_csv(\"data/basic1.csv\")",
   "id": "2c0b0e5c4f893e13",
   "outputs": [],
   "execution_count": 45
  },
  {
   "metadata": {
    "ExecuteTime": {
     "end_time": "2025-06-03T06:49:11.042940Z",
     "start_time": "2025-06-03T06:49:11.039006Z"
    }
   },
   "cell_type": "code",
   "source": [
    "df = df.sort_values('f5', ascending=False)\n",
    "\n",
    "min_f5 = min(df[\"f5\"].head(10))\n",
    "print(min_f5)"
   ],
   "id": "37c9c6311d0bf1a8",
   "outputs": [
    {
     "name": "stdout",
     "output_type": "stream",
     "text": [
      "91.29779092\n"
     ]
    }
   ],
   "execution_count": 46
  },
  {
   "metadata": {
    "ExecuteTime": {
     "end_time": "2025-06-03T06:49:52.635354Z",
     "start_time": "2025-06-03T06:49:52.631389Z"
    }
   },
   "cell_type": "code",
   "source": [
    "df.iloc[:10, -1] = min_f5\n",
    "result = df[df[\"age\"] >= 80][\"f5\"].mean()\n",
    "print(\"문제1 답: \", result)"
   ],
   "id": "153b3e55b3610482",
   "outputs": [
    {
     "name": "stdout",
     "output_type": "stream",
     "text": [
      "문제1 답:  62.49774712521738\n"
     ]
    }
   ],
   "execution_count": 49
  },
  {
   "metadata": {
    "ExecuteTime": {
     "end_time": "2025-06-03T07:01:58.157836Z",
     "start_time": "2025-06-03T07:01:58.151906Z"
    }
   },
   "cell_type": "code",
   "source": [
    "df = pd.read_csv(\"data/basic1.csv\")\n",
    "df = df.head(round(len(df)*0.7))\n",
    "std_before = df[\"f1\"].std()\n",
    "\n",
    "med = df[\"f1\"].median()\n",
    "df[\"f1\"] = df[\"f1\"].fillna(med)\n",
    "std_after = df[\"f1\"].std()\n",
    "\n",
    "print(\"before:\", std_before, \"after:\", std_after)\n",
    "print(\"문제2 답:\", std_before - std_after)"
   ],
   "id": "e90a0ee117f22fbd",
   "outputs": [
    {
     "name": "stdout",
     "output_type": "stream",
     "text": [
      "before: 17.98727579865276 after: 14.690773995256688\n",
      "문제2 답: 3.2965018033960725\n"
     ]
    }
   ],
   "execution_count": 71
  },
  {
   "metadata": {
    "ExecuteTime": {
     "end_time": "2025-06-03T07:07:36.001931Z",
     "start_time": "2025-06-03T07:07:35.993942Z"
    }
   },
   "cell_type": "code",
   "source": [
    "df = pd.read_csv(\"data/basic1.csv\")\n",
    "\n",
    "age_mean = df[\"age\"].mean()\n",
    "age_std = df[\"age\"].std()\n",
    "upper_box, lower_box = age_mean + 1.5 * age_std, age_mean - 1.5 * age_std\n",
    "\n",
    "result = df[df[\"age\"] > upper_box][\"age\"].sum() + df[df[\"age\"] < lower_box][\"age\"].sum()\n",
    "print(\"문제3 답:\", result)"
   ],
   "id": "3c258dfa171e183d",
   "outputs": [
    {
     "name": "stdout",
     "output_type": "stream",
     "text": [
      "문제3 답: 473.5\n"
     ]
    }
   ],
   "execution_count": 76
  },
  {
   "metadata": {},
   "cell_type": "code",
   "outputs": [],
   "execution_count": null,
   "source": "",
   "id": "6e0ee577d2119fdc"
  }
 ],
 "metadata": {
  "kernelspec": {
   "display_name": "Python 3",
   "language": "python",
   "name": "python3"
  },
  "language_info": {
   "codemirror_mode": {
    "name": "ipython",
    "version": 2
   },
   "file_extension": ".py",
   "mimetype": "text/x-python",
   "name": "python",
   "nbconvert_exporter": "python",
   "pygments_lexer": "ipython2",
   "version": "2.7.6"
  }
 },
 "nbformat": 4,
 "nbformat_minor": 5
}
