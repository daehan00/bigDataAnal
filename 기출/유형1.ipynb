{
 "cells": [
  {
   "metadata": {},
   "cell_type": "markdown",
   "source": [
    "# 작업형 1 예시문제\n",
    "\n",
    "작업형1 예시문제\n",
    "자동차 데이터 셋에서 qsec 컬럼을 Min-Max Scale로 변환 후 0.5보다 큰 값을 가지는 레코드(row) 수를 묻는 문제입니다."
   ],
   "id": "b022d9c96010918e"
  },
  {
   "cell_type": "code",
   "id": "initial_id",
   "metadata": {
    "collapsed": true,
    "ExecuteTime": {
     "end_time": "2025-06-03T13:58:31.349241Z",
     "start_time": "2025-06-03T13:58:31.338488Z"
    }
   },
   "source": [
    "import pandas as pd\n",
    "\n",
    "df = pd.read_csv(\"../data/mtcars.csv\")\n",
    "\n",
    "df['qsec_minmax_scale'] = (df['qsec'] - min(df['qsec'])) / (max(df['qsec']) - min(df['qsec']))\n",
    "\n",
    "print(len(df[df['qsec_minmax_scale'] > 0.5]))"
   ],
   "outputs": [
    {
     "name": "stdout",
     "output_type": "stream",
     "text": [
      "9\n"
     ]
    }
   ],
   "execution_count": 20
  },
  {
   "metadata": {},
   "cell_type": "markdown",
   "source": [
    "# 2회 기출 유형1\n",
    "\n",
    "문제1\n",
    "데이터셋(basic1.csv)의 'f5' 컬럼을 기준으로 상위 10개의 데이터를 구하고,\n",
    "'f5'컬럼 10개 중 최소값으로 데이터를 대체한 후,\n",
    "'age'컬럼에서 80 이상인 데이터의'f5 컬럼 평균값 구하기\n",
    "\n",
    "문제2\n",
    "데이터셋(basic1.csv)의 앞에서 순서대로 70% 데이터만 활용해서,\n",
    "'f1'컬럼 결측치를 중앙값으로 채우기 전후의 표준편차를 구하고\n",
    "두 표준편차 차이 계산하기\n",
    "\n",
    "문제3\n",
    "데이터셋(basic1.csv)의 'age'컬럼의 이상치를 더하시오!\n",
    "단, 평균으로부터 '표준편차*1.5'를 벗어나는 영역을 이상치라고 판단함"
   ],
   "id": "35067390847f792f"
  },
  {
   "metadata": {
    "ExecuteTime": {
     "end_time": "2025-06-03T13:58:31.354175Z",
     "start_time": "2025-06-03T13:58:31.350839Z"
    }
   },
   "cell_type": "code",
   "source": "df = pd.read_csv(\"../data/basic1.csv\")",
   "id": "2c0b0e5c4f893e13",
   "outputs": [],
   "execution_count": 21
  },
  {
   "metadata": {
    "ExecuteTime": {
     "end_time": "2025-06-03T13:58:31.358034Z",
     "start_time": "2025-06-03T13:58:31.355198Z"
    }
   },
   "cell_type": "code",
   "source": [
    "df = df.sort_values('f5', ascending=False)\n",
    "\n",
    "min_f5 = min(df[\"f5\"].head(10))\n",
    "print(min_f5)"
   ],
   "id": "37c9c6311d0bf1a8",
   "outputs": [
    {
     "name": "stdout",
     "output_type": "stream",
     "text": [
      "91.29779092\n"
     ]
    }
   ],
   "execution_count": 22
  },
  {
   "metadata": {
    "ExecuteTime": {
     "end_time": "2025-06-03T13:58:31.362571Z",
     "start_time": "2025-06-03T13:58:31.359320Z"
    }
   },
   "cell_type": "code",
   "source": [
    "df.iloc[:10, -1] = min_f5\n",
    "result = df[df[\"age\"] >= 80][\"f5\"].mean()\n",
    "print(\"문제1 답: \", result)"
   ],
   "id": "153b3e55b3610482",
   "outputs": [
    {
     "name": "stdout",
     "output_type": "stream",
     "text": [
      "문제1 답:  62.49774712521738\n"
     ]
    }
   ],
   "execution_count": 23
  },
  {
   "metadata": {
    "ExecuteTime": {
     "end_time": "2025-06-03T13:58:31.368597Z",
     "start_time": "2025-06-03T13:58:31.363300Z"
    }
   },
   "cell_type": "code",
   "source": [
    "df = pd.read_csv(\"../data/basic1.csv\")\n",
    "df = df.head(round(len(df)*0.7))\n",
    "std_before = df[\"f1\"].std()\n",
    "\n",
    "med = df[\"f1\"].median()\n",
    "df[\"f1\"] = df[\"f1\"].fillna(med)\n",
    "std_after = df[\"f1\"].std()\n",
    "\n",
    "print(\"before:\", std_before, \"after:\", std_after)\n",
    "print(\"문제2 답:\", std_before - std_after)"
   ],
   "id": "e90a0ee117f22fbd",
   "outputs": [
    {
     "name": "stdout",
     "output_type": "stream",
     "text": [
      "before: 17.98727579865276 after: 14.690773995256688\n",
      "문제2 답: 3.2965018033960725\n"
     ]
    }
   ],
   "execution_count": 24
  },
  {
   "metadata": {
    "ExecuteTime": {
     "end_time": "2025-06-03T13:58:31.375991Z",
     "start_time": "2025-06-03T13:58:31.369566Z"
    }
   },
   "cell_type": "code",
   "source": [
    "df = pd.read_csv(\"../data/basic1.csv\")\n",
    "\n",
    "age_mean = df[\"age\"].mean()\n",
    "age_std = df[\"age\"].std()\n",
    "upper_box, lower_box = age_mean + 1.5 * age_std, age_mean - 1.5 * age_std\n",
    "\n",
    "result = df[df[\"age\"] > upper_box][\"age\"].sum() + df[df[\"age\"] < lower_box][\"age\"].sum()\n",
    "print(\"문제3 답:\", result)"
   ],
   "id": "3c258dfa171e183d",
   "outputs": [
    {
     "name": "stdout",
     "output_type": "stream",
     "text": [
      "문제3 답: 473.5\n"
     ]
    }
   ],
   "execution_count": 25
  },
  {
   "metadata": {},
   "cell_type": "markdown",
   "source": [
    "# 3회 기출 유형1\n",
    "\n",
    "문제1 2022년 데이터 중 2022년 중앙값보다 큰 값의 데이터 수\n",
    "\n",
    "문제2 결측치 데이터(행)을 제거하고, 앞에서부터 60% 데이터만 활용해, 'f1' 컬럼 3사분위 값을 구하시오. 60%가 소수점일 경우 절사(예: 36.6 일때 36으로 계산\n",
    "\n",
    "문제3 결측치가 제일 큰 값의 컬럼명을 구하시오"
   ],
   "id": "47214ce4152cf177"
  },
  {
   "metadata": {
    "ExecuteTime": {
     "end_time": "2025-06-03T14:04:56.807110Z",
     "start_time": "2025-06-03T14:04:56.798279Z"
    }
   },
   "cell_type": "code",
   "source": [
    "df = pd.read_csv(\"../data/t1-data2.csv\")\n",
    "\n",
    "df.head()"
   ],
   "id": "6e0ee577d2119fdc",
   "outputs": [
    {
     "data": {
      "text/plain": [
       "    year   0   1   2   3   4   5    6   7   8  ...  90  91  92  93  94  95  \\\n",
       "0  2022년  69  37  57  70  40  75    8  67  89  ...  79  56  98  21  14  25   \n",
       "1  2023년  52  13  22  70  92  80    8  56  17  ...  62  47  59   6  25  96   \n",
       "2  2024년  88  44  32  55  64   8    4   2  62  ...  98  95  40  59  69  71   \n",
       "3  2025년  80  97  15   4  74  12  100  60  47  ...  30  11   2  54   9  52   \n",
       "4  2026년  64  66  62  56  67  80   90  24  58  ...  93  15  88  67   7  82   \n",
       "\n",
       "   96  97  98  99  \n",
       "0  17  10  60  17  \n",
       "1  69  87  28  64  \n",
       "2  86  53  93  64  \n",
       "3  51  81  78  22  \n",
       "4   5  61  15  63  \n",
       "\n",
       "[5 rows x 101 columns]"
      ],
      "text/html": [
       "<div>\n",
       "<style scoped>\n",
       "    .dataframe tbody tr th:only-of-type {\n",
       "        vertical-align: middle;\n",
       "    }\n",
       "\n",
       "    .dataframe tbody tr th {\n",
       "        vertical-align: top;\n",
       "    }\n",
       "\n",
       "    .dataframe thead th {\n",
       "        text-align: right;\n",
       "    }\n",
       "</style>\n",
       "<table border=\"1\" class=\"dataframe\">\n",
       "  <thead>\n",
       "    <tr style=\"text-align: right;\">\n",
       "      <th></th>\n",
       "      <th>year</th>\n",
       "      <th>0</th>\n",
       "      <th>1</th>\n",
       "      <th>2</th>\n",
       "      <th>3</th>\n",
       "      <th>4</th>\n",
       "      <th>5</th>\n",
       "      <th>6</th>\n",
       "      <th>7</th>\n",
       "      <th>8</th>\n",
       "      <th>...</th>\n",
       "      <th>90</th>\n",
       "      <th>91</th>\n",
       "      <th>92</th>\n",
       "      <th>93</th>\n",
       "      <th>94</th>\n",
       "      <th>95</th>\n",
       "      <th>96</th>\n",
       "      <th>97</th>\n",
       "      <th>98</th>\n",
       "      <th>99</th>\n",
       "    </tr>\n",
       "  </thead>\n",
       "  <tbody>\n",
       "    <tr>\n",
       "      <th>0</th>\n",
       "      <td>2022년</td>\n",
       "      <td>69</td>\n",
       "      <td>37</td>\n",
       "      <td>57</td>\n",
       "      <td>70</td>\n",
       "      <td>40</td>\n",
       "      <td>75</td>\n",
       "      <td>8</td>\n",
       "      <td>67</td>\n",
       "      <td>89</td>\n",
       "      <td>...</td>\n",
       "      <td>79</td>\n",
       "      <td>56</td>\n",
       "      <td>98</td>\n",
       "      <td>21</td>\n",
       "      <td>14</td>\n",
       "      <td>25</td>\n",
       "      <td>17</td>\n",
       "      <td>10</td>\n",
       "      <td>60</td>\n",
       "      <td>17</td>\n",
       "    </tr>\n",
       "    <tr>\n",
       "      <th>1</th>\n",
       "      <td>2023년</td>\n",
       "      <td>52</td>\n",
       "      <td>13</td>\n",
       "      <td>22</td>\n",
       "      <td>70</td>\n",
       "      <td>92</td>\n",
       "      <td>80</td>\n",
       "      <td>8</td>\n",
       "      <td>56</td>\n",
       "      <td>17</td>\n",
       "      <td>...</td>\n",
       "      <td>62</td>\n",
       "      <td>47</td>\n",
       "      <td>59</td>\n",
       "      <td>6</td>\n",
       "      <td>25</td>\n",
       "      <td>96</td>\n",
       "      <td>69</td>\n",
       "      <td>87</td>\n",
       "      <td>28</td>\n",
       "      <td>64</td>\n",
       "    </tr>\n",
       "    <tr>\n",
       "      <th>2</th>\n",
       "      <td>2024년</td>\n",
       "      <td>88</td>\n",
       "      <td>44</td>\n",
       "      <td>32</td>\n",
       "      <td>55</td>\n",
       "      <td>64</td>\n",
       "      <td>8</td>\n",
       "      <td>4</td>\n",
       "      <td>2</td>\n",
       "      <td>62</td>\n",
       "      <td>...</td>\n",
       "      <td>98</td>\n",
       "      <td>95</td>\n",
       "      <td>40</td>\n",
       "      <td>59</td>\n",
       "      <td>69</td>\n",
       "      <td>71</td>\n",
       "      <td>86</td>\n",
       "      <td>53</td>\n",
       "      <td>93</td>\n",
       "      <td>64</td>\n",
       "    </tr>\n",
       "    <tr>\n",
       "      <th>3</th>\n",
       "      <td>2025년</td>\n",
       "      <td>80</td>\n",
       "      <td>97</td>\n",
       "      <td>15</td>\n",
       "      <td>4</td>\n",
       "      <td>74</td>\n",
       "      <td>12</td>\n",
       "      <td>100</td>\n",
       "      <td>60</td>\n",
       "      <td>47</td>\n",
       "      <td>...</td>\n",
       "      <td>30</td>\n",
       "      <td>11</td>\n",
       "      <td>2</td>\n",
       "      <td>54</td>\n",
       "      <td>9</td>\n",
       "      <td>52</td>\n",
       "      <td>51</td>\n",
       "      <td>81</td>\n",
       "      <td>78</td>\n",
       "      <td>22</td>\n",
       "    </tr>\n",
       "    <tr>\n",
       "      <th>4</th>\n",
       "      <td>2026년</td>\n",
       "      <td>64</td>\n",
       "      <td>66</td>\n",
       "      <td>62</td>\n",
       "      <td>56</td>\n",
       "      <td>67</td>\n",
       "      <td>80</td>\n",
       "      <td>90</td>\n",
       "      <td>24</td>\n",
       "      <td>58</td>\n",
       "      <td>...</td>\n",
       "      <td>93</td>\n",
       "      <td>15</td>\n",
       "      <td>88</td>\n",
       "      <td>67</td>\n",
       "      <td>7</td>\n",
       "      <td>82</td>\n",
       "      <td>5</td>\n",
       "      <td>61</td>\n",
       "      <td>15</td>\n",
       "      <td>63</td>\n",
       "    </tr>\n",
       "  </tbody>\n",
       "</table>\n",
       "<p>5 rows × 101 columns</p>\n",
       "</div>"
      ]
     },
     "execution_count": 32,
     "metadata": {},
     "output_type": "execute_result"
    }
   ],
   "execution_count": 32
  },
  {
   "metadata": {},
   "cell_type": "code",
   "outputs": [],
   "execution_count": null,
   "source": "",
   "id": "9a9d38a720a3d0f"
  }
 ],
 "metadata": {
  "kernelspec": {
   "display_name": "Python 3",
   "language": "python",
   "name": "python3"
  },
  "language_info": {
   "codemirror_mode": {
    "name": "ipython",
    "version": 2
   },
   "file_extension": ".py",
   "mimetype": "text/x-python",
   "name": "python",
   "nbconvert_exporter": "python",
   "pygments_lexer": "ipython2",
   "version": "2.7.6"
  }
 },
 "nbformat": 4,
 "nbformat_minor": 5
}
