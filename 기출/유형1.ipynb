{
 "cells": [
  {
   "metadata": {},
   "cell_type": "markdown",
   "source": [
    "# 작업형 1 예시문제\n",
    "\n",
    "작업형1 예시문제\n",
    "자동차 데이터 셋에서 qsec 컬럼을 Min-Max Scale로 변환 후 0.5보다 큰 값을 가지는 레코드(row) 수를 묻는 문제입니다."
   ],
   "id": "b022d9c96010918e"
  },
  {
   "cell_type": "code",
   "id": "initial_id",
   "metadata": {
    "collapsed": true,
    "ExecuteTime": {
     "end_time": "2025-06-05T13:49:35.002980Z",
     "start_time": "2025-06-05T13:49:34.734797Z"
    }
   },
   "source": [
    "import pandas as pd\n",
    "\n",
    "df = pd.read_csv(\"../data/mtcars.csv\")\n",
    "\n",
    "df['qsec_minmax_scale'] = (df['qsec'] - min(df['qsec'])) / (max(df['qsec']) - min(df['qsec']))\n",
    "\n",
    "print(len(df[df['qsec_minmax_scale'] > 0.5]))"
   ],
   "outputs": [
    {
     "name": "stdout",
     "output_type": "stream",
     "text": [
      "9\n"
     ]
    }
   ],
   "execution_count": 1
  },
  {
   "metadata": {},
   "cell_type": "markdown",
   "source": [
    "# 2회 기출 유형1\n",
    "\n",
    "문제1\n",
    "데이터셋(basic1.csv)의 'f5' 컬럼을 기준으로 상위 10개의 데이터를 구하고,\n",
    "'f5'컬럼 10개 중 최소값으로 데이터를 대체한 후,\n",
    "'age'컬럼에서 80 이상인 데이터의'f5 컬럼 평균값 구하기\n",
    "\n",
    "문제2\n",
    "데이터셋(basic1.csv)의 앞에서 순서대로 70% 데이터만 활용해서,\n",
    "'f1'컬럼 결측치를 중앙값으로 채우기 전후의 표준편차를 구하고\n",
    "두 표준편차 차이 계산하기\n",
    "\n",
    "문제3\n",
    "데이터셋(basic1.csv)의 'age'컬럼의 이상치를 더하시오!\n",
    "단, 평균으로부터 '표준편차*1.5'를 벗어나는 영역을 이상치라고 판단함"
   ],
   "id": "35067390847f792f"
  },
  {
   "metadata": {
    "ExecuteTime": {
     "end_time": "2025-06-05T13:49:35.009770Z",
     "start_time": "2025-06-05T13:49:35.005832Z"
    }
   },
   "cell_type": "code",
   "source": "df = pd.read_csv(\"../data/basic1.csv\")",
   "id": "2c0b0e5c4f893e13",
   "outputs": [],
   "execution_count": 2
  },
  {
   "metadata": {
    "ExecuteTime": {
     "end_time": "2025-06-05T13:49:35.015080Z",
     "start_time": "2025-06-05T13:49:35.011324Z"
    }
   },
   "cell_type": "code",
   "source": [
    "df = df.sort_values('f5', ascending=False)\n",
    "\n",
    "min_f5 = min(df[\"f5\"].head(10))\n",
    "print(min_f5)"
   ],
   "id": "37c9c6311d0bf1a8",
   "outputs": [
    {
     "name": "stdout",
     "output_type": "stream",
     "text": [
      "91.29779092\n"
     ]
    }
   ],
   "execution_count": 3
  },
  {
   "metadata": {
    "ExecuteTime": {
     "end_time": "2025-06-05T13:49:35.021088Z",
     "start_time": "2025-06-05T13:49:35.017344Z"
    }
   },
   "cell_type": "code",
   "source": [
    "df.iloc[:10, -1] = min_f5\n",
    "result = df[df[\"age\"] >= 80][\"f5\"].mean()\n",
    "print(\"문제1 답: \", result)"
   ],
   "id": "153b3e55b3610482",
   "outputs": [
    {
     "name": "stdout",
     "output_type": "stream",
     "text": [
      "문제1 답:  62.49774712521738\n"
     ]
    }
   ],
   "execution_count": 4
  },
  {
   "metadata": {
    "ExecuteTime": {
     "end_time": "2025-06-05T13:49:35.028022Z",
     "start_time": "2025-06-05T13:49:35.022005Z"
    }
   },
   "cell_type": "code",
   "source": [
    "df = pd.read_csv(\"../data/basic1.csv\")\n",
    "df = df.head(round(len(df)*0.7))\n",
    "std_before = df[\"f1\"].std()\n",
    "\n",
    "med = df[\"f1\"].median()\n",
    "df[\"f1\"] = df[\"f1\"].fillna(med)\n",
    "std_after = df[\"f1\"].std()\n",
    "\n",
    "print(\"before:\", std_before, \"after:\", std_after)\n",
    "print(\"문제2 답:\", std_before - std_after)"
   ],
   "id": "e90a0ee117f22fbd",
   "outputs": [
    {
     "name": "stdout",
     "output_type": "stream",
     "text": [
      "before: 17.98727579865276 after: 14.690773995256688\n",
      "문제2 답: 3.2965018033960725\n"
     ]
    }
   ],
   "execution_count": 5
  },
  {
   "metadata": {
    "ExecuteTime": {
     "end_time": "2025-06-05T13:49:35.033785Z",
     "start_time": "2025-06-05T13:49:35.029160Z"
    }
   },
   "cell_type": "code",
   "source": [
    "df = pd.read_csv(\"../data/basic1.csv\")\n",
    "\n",
    "age_mean = df[\"age\"].mean()\n",
    "age_std = df[\"age\"].std()\n",
    "upper_box, lower_box = age_mean + 1.5 * age_std, age_mean - 1.5 * age_std\n",
    "\n",
    "result = df[df[\"age\"] > upper_box][\"age\"].sum() + df[df[\"age\"] < lower_box][\"age\"].sum()\n",
    "print(\"문제3 답:\", result)"
   ],
   "id": "3c258dfa171e183d",
   "outputs": [
    {
     "name": "stdout",
     "output_type": "stream",
     "text": [
      "문제3 답: 473.5\n"
     ]
    }
   ],
   "execution_count": 6
  },
  {
   "metadata": {},
   "cell_type": "markdown",
   "source": [
    "# 3회 기출 유형1\n",
    "\n",
    "문제1 2022년 데이터 중 2022년 중앙값보다 큰 값의 데이터 수\n",
    "\n",
    "문제2 결측치 데이터(행)을 제거하고, 앞에서부터 60% 데이터만 활용해, 'f1' 컬럼 3사분위 값을 구하시오. 60%가 소수점일 경우 절사(예: 36.6 일때 36으로 계산\n",
    "\n",
    "문제3 결측치가 제일 큰 값의 컬럼명을 구하시오"
   ],
   "id": "47214ce4152cf177"
  },
  {
   "metadata": {
    "ExecuteTime": {
     "end_time": "2025-06-05T13:49:35.039309Z",
     "start_time": "2025-06-05T13:49:35.034788Z"
    }
   },
   "cell_type": "code",
   "source": [
    "import pandas as pd\n",
    "\n",
    "df = pd.read_csv(\"../data/t1-data2.csv\", index_col = \"year\")\n",
    "\n",
    "med = df.loc[\"2022년\"].median()\n",
    "\n",
    "count = 0\n",
    "for i in df.loc[\"2022년\"]:\n",
    "    if i > med:\n",
    "        count += 1\n",
    "\n",
    "print(count)\n",
    "print(sum(df.loc[\"2022년\"] > med))"
   ],
   "id": "6e0ee577d2119fdc",
   "outputs": [
    {
     "name": "stdout",
     "output_type": "stream",
     "text": [
      "50\n",
      "50\n"
     ]
    }
   ],
   "execution_count": 7
  },
  {
   "metadata": {
    "ExecuteTime": {
     "end_time": "2025-06-05T13:49:35.045731Z",
     "start_time": "2025-06-05T13:49:35.040216Z"
    }
   },
   "cell_type": "code",
   "source": [
    "df = pd.read_csv(\"../data/t1-data1.csv\")\n",
    "\n",
    "df = df.dropna()\n",
    "df = df.reset_index()\n",
    "\n",
    "df = df.iloc[:int(len(df) * 0.6)]\n",
    "print(df[\"f1\"].quantile(0.75))"
   ],
   "id": "b02972b2d93171a",
   "outputs": [
    {
     "name": "stdout",
     "output_type": "stream",
     "text": [
      "77.25\n"
     ]
    }
   ],
   "execution_count": 8
  },
  {
   "metadata": {
    "ExecuteTime": {
     "end_time": "2025-06-05T13:49:35.053005Z",
     "start_time": "2025-06-05T13:49:35.046598Z"
    }
   },
   "cell_type": "code",
   "source": [
    "df = pd.read_csv(\"../data/t1-data1.csv\")\n",
    "\n",
    "df.info()\n",
    "\n",
    "df = df.isnull().sum()\n",
    "print(df.index[3])"
   ],
   "id": "d8cc530dda30a5aa",
   "outputs": [
    {
     "name": "stdout",
     "output_type": "stream",
     "text": [
      "<class 'pandas.core.frame.DataFrame'>\n",
      "RangeIndex: 90 entries, 0 to 89\n",
      "Data columns (total 7 columns):\n",
      " #   Column  Non-Null Count  Dtype  \n",
      "---  ------  --------------  -----  \n",
      " 0   id      90 non-null     object \n",
      " 1   age     90 non-null     float64\n",
      " 2   city    90 non-null     object \n",
      " 3   f1      61 non-null     float64\n",
      " 4   f2      90 non-null     int64  \n",
      " 5   f4      90 non-null     object \n",
      " 6   f5      90 non-null     float64\n",
      "dtypes: float64(3), int64(1), object(3)\n",
      "memory usage: 5.1+ KB\n",
      "f1\n"
     ]
    }
   ],
   "execution_count": 9
  },
  {
   "metadata": {},
   "cell_type": "markdown",
   "source": [
    "# 4회 기출 유형 1\n",
    "\n",
    "1-1. age 컬럼의 3사분위수와 1사분위수의 차를 절대값으로 구하고, 소수점 버려서, 정수로 출력\n",
    "\n",
    "data_path: ../data/basic1.csv\n",
    "\n",
    "1-2.(loves반응+wows반응)/(reactions반응) 비율이 0.4보다 크고 0.5보다 작으면서, type 컬럼이 'video'인 데이터의 갯수\n",
    "\n",
    "data_path: ../data/fb.csv\n",
    "\n",
    "\n",
    "1-3. date_added가 2018년 1월 이면서 country가 United Kingdom 단독 제작인 데이터의 갯수\n",
    "\n",
    "data_path: ../data/nf.csv"
   ],
   "id": "12e553ba393e0a4c"
  },
  {
   "metadata": {
    "ExecuteTime": {
     "end_time": "2025-06-05T13:49:35.059046Z",
     "start_time": "2025-06-05T13:49:35.055500Z"
    }
   },
   "cell_type": "code",
   "source": [
    "df = pd.read_csv(\"../data/basic1.csv\")\n",
    "df.head()\n",
    "\n",
    "raw = abs(df[\"age\"].quantile(0.75)-df[\"age\"].quantile(0.25))\n",
    "raw -= raw % 1\n",
    "print(int(raw))"
   ],
   "id": "f662cdeb5bba3541",
   "outputs": [
    {
     "name": "stdout",
     "output_type": "stream",
     "text": [
      "50\n"
     ]
    }
   ],
   "execution_count": 10
  },
  {
   "metadata": {
    "ExecuteTime": {
     "end_time": "2025-06-05T13:49:35.066304Z",
     "start_time": "2025-06-05T13:49:35.059640Z"
    }
   },
   "cell_type": "code",
   "source": [
    "df = pd.read_csv(\"../data/fb.csv\")\n",
    "\n",
    "df = df[df[\"type\"] == \"video\"]\n",
    "df[\"calc\"] = (df[\"loves\"] + df[\"wows\"]) / df[\"reactions\"]\n",
    "\n",
    "cnt = df[\"calc\"].count() - len(df[df[\"calc\"] <= 0.4]) - len(df[df[\"calc\"] >= 0.5])\n",
    "print(cnt)\n",
    "\n",
    "# 효율적 풀이\n",
    "cond1 = df[\"calc\"] > 0.4\n",
    "cond2 = df[\"calc\"] < 0.5\n",
    "\n",
    "print(len(df[cond1 & cond2]))"
   ],
   "id": "bc393cc8ac6df879",
   "outputs": [
    {
     "name": "stdout",
     "output_type": "stream",
     "text": [
      "90\n",
      "90\n"
     ]
    }
   ],
   "execution_count": 11
  },
  {
   "metadata": {
    "ExecuteTime": {
     "end_time": "2025-06-05T13:49:35.094409Z",
     "start_time": "2025-06-05T13:49:35.066874Z"
    }
   },
   "cell_type": "code",
   "source": [
    "df = pd.read_csv(\"../data/nf.csv\")\n",
    "\n",
    "df.head(30)\n",
    "\n",
    "df[\"year\"] = df[\"date_added\"].str.split(\",\").str[1].str.strip()\n",
    "df[\"month\"] = df[\"date_added\"].str.split(\" \").str[0]\n",
    "\n",
    "cond1 = df[\"country\"] == \"United Kingdom\"\n",
    "cond2 = df[\"year\"] == \"2018\"\n",
    "cond3 = df[\"month\"] == \"January\"\n",
    "\n",
    "print(len(df[cond1 & cond2 & cond3]))"
   ],
   "id": "3f3ec83e440a9bf7",
   "outputs": [
    {
     "name": "stdout",
     "output_type": "stream",
     "text": [
      "6\n"
     ]
    }
   ],
   "execution_count": 12
  },
  {
   "metadata": {
    "ExecuteTime": {
     "end_time": "2025-06-05T13:49:35.103472Z",
     "start_time": "2025-06-05T13:49:35.094897Z"
    }
   },
   "cell_type": "code",
   "source": [
    "df = pd.read_csv(\"../data/train.csv\")\n",
    "df.head()"
   ],
   "id": "40f4b977e07f4a8c",
   "outputs": [
    {
     "data": {
      "text/plain": [
       "       ID  Gender Ever_Married  Age Graduated  Profession  Work_Experience  \\\n",
       "0  462809    Male           No   22        No  Healthcare              1.0   \n",
       "1  466315  Female          Yes   67       Yes    Engineer              1.0   \n",
       "2  461735    Male          Yes   67       Yes      Lawyer              0.0   \n",
       "3  461319    Male          Yes   56        No      Artist              0.0   \n",
       "4  460156    Male           No   32       Yes  Healthcare              1.0   \n",
       "\n",
       "  Spending_Score  Family_Size  Var_1  Segmentation  \n",
       "0            Low          4.0  Cat_4             4  \n",
       "1            Low          1.0  Cat_6             2  \n",
       "2           High          2.0  Cat_6             2  \n",
       "3        Average          2.0  Cat_6             3  \n",
       "4            Low          3.0  Cat_6             3  "
      ],
      "text/html": [
       "<div>\n",
       "<style scoped>\n",
       "    .dataframe tbody tr th:only-of-type {\n",
       "        vertical-align: middle;\n",
       "    }\n",
       "\n",
       "    .dataframe tbody tr th {\n",
       "        vertical-align: top;\n",
       "    }\n",
       "\n",
       "    .dataframe thead th {\n",
       "        text-align: right;\n",
       "    }\n",
       "</style>\n",
       "<table border=\"1\" class=\"dataframe\">\n",
       "  <thead>\n",
       "    <tr style=\"text-align: right;\">\n",
       "      <th></th>\n",
       "      <th>ID</th>\n",
       "      <th>Gender</th>\n",
       "      <th>Ever_Married</th>\n",
       "      <th>Age</th>\n",
       "      <th>Graduated</th>\n",
       "      <th>Profession</th>\n",
       "      <th>Work_Experience</th>\n",
       "      <th>Spending_Score</th>\n",
       "      <th>Family_Size</th>\n",
       "      <th>Var_1</th>\n",
       "      <th>Segmentation</th>\n",
       "    </tr>\n",
       "  </thead>\n",
       "  <tbody>\n",
       "    <tr>\n",
       "      <th>0</th>\n",
       "      <td>462809</td>\n",
       "      <td>Male</td>\n",
       "      <td>No</td>\n",
       "      <td>22</td>\n",
       "      <td>No</td>\n",
       "      <td>Healthcare</td>\n",
       "      <td>1.0</td>\n",
       "      <td>Low</td>\n",
       "      <td>4.0</td>\n",
       "      <td>Cat_4</td>\n",
       "      <td>4</td>\n",
       "    </tr>\n",
       "    <tr>\n",
       "      <th>1</th>\n",
       "      <td>466315</td>\n",
       "      <td>Female</td>\n",
       "      <td>Yes</td>\n",
       "      <td>67</td>\n",
       "      <td>Yes</td>\n",
       "      <td>Engineer</td>\n",
       "      <td>1.0</td>\n",
       "      <td>Low</td>\n",
       "      <td>1.0</td>\n",
       "      <td>Cat_6</td>\n",
       "      <td>2</td>\n",
       "    </tr>\n",
       "    <tr>\n",
       "      <th>2</th>\n",
       "      <td>461735</td>\n",
       "      <td>Male</td>\n",
       "      <td>Yes</td>\n",
       "      <td>67</td>\n",
       "      <td>Yes</td>\n",
       "      <td>Lawyer</td>\n",
       "      <td>0.0</td>\n",
       "      <td>High</td>\n",
       "      <td>2.0</td>\n",
       "      <td>Cat_6</td>\n",
       "      <td>2</td>\n",
       "    </tr>\n",
       "    <tr>\n",
       "      <th>3</th>\n",
       "      <td>461319</td>\n",
       "      <td>Male</td>\n",
       "      <td>Yes</td>\n",
       "      <td>56</td>\n",
       "      <td>No</td>\n",
       "      <td>Artist</td>\n",
       "      <td>0.0</td>\n",
       "      <td>Average</td>\n",
       "      <td>2.0</td>\n",
       "      <td>Cat_6</td>\n",
       "      <td>3</td>\n",
       "    </tr>\n",
       "    <tr>\n",
       "      <th>4</th>\n",
       "      <td>460156</td>\n",
       "      <td>Male</td>\n",
       "      <td>No</td>\n",
       "      <td>32</td>\n",
       "      <td>Yes</td>\n",
       "      <td>Healthcare</td>\n",
       "      <td>1.0</td>\n",
       "      <td>Low</td>\n",
       "      <td>3.0</td>\n",
       "      <td>Cat_6</td>\n",
       "      <td>3</td>\n",
       "    </tr>\n",
       "  </tbody>\n",
       "</table>\n",
       "</div>"
      ]
     },
     "execution_count": 13,
     "metadata": {},
     "output_type": "execute_result"
    }
   ],
   "execution_count": 13
  },
  {
   "metadata": {},
   "cell_type": "markdown",
   "source": [
    "### 이상치를 찾아라(소수점 나이)\n",
    "\n",
    "주어진 데이터에서 이상치(소수점 나이)를 찾고 올림, 내림, 버림(절사)했을때 3가지 모두 이상치 'age' 평균을 구한 다음 모두 더하여 출력하시오"
   ],
   "id": "e370d63a3176bde7"
  },
  {
   "metadata": {
    "ExecuteTime": {
     "end_time": "2025-06-05T13:49:35.107768Z",
     "start_time": "2025-06-05T13:49:35.103924Z"
    }
   },
   "cell_type": "code",
   "source": [
    "df = pd.read_csv(\"../data/basic1.csv\")\n",
    "\n",
    "def floor(num_f):\n",
    "    return num_f - num_f % 1\n",
    "\n",
    "def ceil(num_f):\n",
    "    return num_f if num_f % 1 == 0 else floor(num_f) + 1\n",
    "\n",
    "def trunc(num_f):\n",
    "    return int(str(num_f).split(\".\")[0])\n",
    "\n",
    "df[\"outlier\"] = df[\"age\"] % 1 != 0\n",
    "\n",
    "result = 0\n",
    "for age in df[df[\"outlier\"]][\"age\"]:\n",
    "    result += floor(age) + ceil(age) + trunc(age)\n",
    "    \n",
    "print(result / len(df[df[\"outlier\"]]))"
   ],
   "id": "ca56c42e642552c4",
   "outputs": [
    {
     "name": "stdout",
     "output_type": "stream",
     "text": [
      "69.5\n"
     ]
    }
   ],
   "execution_count": 14
  },
  {
   "metadata": {
    "ExecuteTime": {
     "end_time": "2025-06-05T13:49:35.111231Z",
     "start_time": "2025-06-05T13:49:35.108212Z"
    }
   },
   "cell_type": "code",
   "source": [
    "import numpy as np\n",
    "df = pd.read_csv(\"../data/basic1.csv\")\n",
    "\n",
    "df = df[(df['age']-np.floor(df['age']))!= 0]\n",
    "\n",
    "m_ceil = np.ceil(df['age']).mean()\n",
    "m_floor = np.floor(df['age']).mean()\n",
    "m_trunc = np.trunc(df['age']).mean()\n",
    "\n",
    "print(m_ceil, m_floor, m_trunc)\n",
    "\n",
    "print(m_ceil + m_floor + m_trunc)"
   ],
   "id": "dd479b14825f89fe",
   "outputs": [
    {
     "name": "stdout",
     "output_type": "stream",
     "text": [
      "23.75 22.75 23.0\n",
      "69.5\n"
     ]
    }
   ],
   "execution_count": 15
  },
  {
   "metadata": {},
   "cell_type": "markdown",
   "source": [
    "### 결측치 처리\n",
    "\n",
    "주어진 데이터에서 결측치가 80%이상 되는 컬럼은(변수는) 삭제하고, 80% 미만인 결측치가 있는 컬럼은 'city'별 중앙값으로 값을 대체하고 'f1'컬럼의 평균값을 출력하세요!\n",
    "\n",
    "데이터셋 : basic1.csv"
   ],
   "id": "dcf00b3d3e60e342"
  },
  {
   "metadata": {
    "ExecuteTime": {
     "end_time": "2025-06-05T13:49:35.115874Z",
     "start_time": "2025-06-05T13:49:35.111808Z"
    }
   },
   "cell_type": "code",
   "source": [
    "df = pd.read_csv(\"../data/basic1.csv\")\n",
    "\n",
    "print(df.isnull().sum() / df.isnull().count() * 100, \"\\n\")\n",
    "\n",
    "df = df.drop([\"f3\"], axis=1)\n",
    "df_group = dict(df.groupby(\"city\")[\"f1\"].median())\n",
    "df[\"f1\"] = df[\"f1\"].fillna(df[\"city\"].map(df_group))\n",
    "\n",
    "print(df[\"f1\"].mean())"
   ],
   "id": "fd6cb48a514c72",
   "outputs": [
    {
     "name": "stdout",
     "output_type": "stream",
     "text": [
      "id       0.0\n",
      "age      0.0\n",
      "city     0.0\n",
      "f1      31.0\n",
      "f2       0.0\n",
      "f3      95.0\n",
      "f4       0.0\n",
      "f5       0.0\n",
      "dtype: float64 \n",
      "\n",
      "65.52\n"
     ]
    }
   ],
   "execution_count": 16
  },
  {
   "metadata": {},
   "cell_type": "markdown",
   "source": [
    "### 왜도와 첨도 구하기\n",
    "주어진 데이터 중 train.csv에서 'SalePrice'컬럼의 왜도와 첨도를 구한 값과, 'SalePrice'컬럼을 스케일링(log1p)로 변환한 이후 왜도와 첨도를 구해 모두 더한 다음 소수점 2째자리까지 출력하시오"
   ],
   "id": "d452615f17a6b88a"
  },
  {
   "metadata": {
    "ExecuteTime": {
     "end_time": "2025-06-05T13:49:35.123748Z",
     "start_time": "2025-06-05T13:49:35.116454Z"
    }
   },
   "cell_type": "code",
   "source": [
    "df = pd.read_csv(\"../data/train.csv\")\n",
    "\n",
    "df.info()\n",
    "\n",
    "df[\"logAge\"] = np.log(df[\"Age\"])\n",
    "result = df[\"Age\"].skew() + df[\"Age\"].kurt()\n",
    "print(round(result, 2))"
   ],
   "id": "1c52b3ab58a37e4d",
   "outputs": [
    {
     "name": "stdout",
     "output_type": "stream",
     "text": [
      "<class 'pandas.core.frame.DataFrame'>\n",
      "RangeIndex: 6665 entries, 0 to 6664\n",
      "Data columns (total 11 columns):\n",
      " #   Column           Non-Null Count  Dtype  \n",
      "---  ------           --------------  -----  \n",
      " 0   ID               6665 non-null   int64  \n",
      " 1   Gender           6665 non-null   object \n",
      " 2   Ever_Married     6665 non-null   object \n",
      " 3   Age              6665 non-null   int64  \n",
      " 4   Graduated        6665 non-null   object \n",
      " 5   Profession       6665 non-null   object \n",
      " 6   Work_Experience  6665 non-null   float64\n",
      " 7   Spending_Score   6665 non-null   object \n",
      " 8   Family_Size      6665 non-null   float64\n",
      " 9   Var_1            6665 non-null   object \n",
      " 10  Segmentation     6665 non-null   int64  \n",
      "dtypes: float64(2), int64(3), object(6)\n",
      "memory usage: 572.9+ KB\n",
      "0.54\n"
     ]
    }
   ],
   "execution_count": 17
  },
  {
   "metadata": {
    "ExecuteTime": {
     "end_time": "2025-06-05T13:49:35.125547Z",
     "start_time": "2025-06-05T13:49:35.124252Z"
    }
   },
   "cell_type": "code",
   "source": "",
   "id": "a3954e1972a2482f",
   "outputs": [],
   "execution_count": 17
  }
 ],
 "metadata": {
  "kernelspec": {
   "display_name": "Python 3",
   "language": "python",
   "name": "python3"
  },
  "language_info": {
   "codemirror_mode": {
    "name": "ipython",
    "version": 2
   },
   "file_extension": ".py",
   "mimetype": "text/x-python",
   "name": "python",
   "nbconvert_exporter": "python",
   "pygments_lexer": "ipython2",
   "version": "2.7.6"
  }
 },
 "nbformat": 4,
 "nbformat_minor": 5
}
