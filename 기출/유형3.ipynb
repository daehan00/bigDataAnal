{
 "cells": [
  {
   "metadata": {},
   "cell_type": "markdown",
   "source": [
    "| 검정 유형        | 사용 조건             | 함수                 | 설명            |\n",
    "| ------------ | ----------------- | ------------------ | ------------- |\n",
    "| 카이제곱         | 범주형 X, Y          | `chi2_contingency` | 독립성 여부        |\n",
    "| 독립 t검정       | 연속형 Y, 범주형(2집단) X | `ttest_ind`        | 두 집단 평균 비교    |\n",
    "| 대응 t검정       | 연속형 Y, 전후 비교      | `ttest_rel`        | 같은 집단 내 비교    |\n",
    "| 분산분석 (ANOVA) | 연속형 Y, 3집단 이상 X   | `f_oneway`         | 세 집단 이상 평균 비교 |\n",
    "| 로지스틱 회귀      | 종속변수: 0/1         | `Logit`            | 변수의 생존 영향 분석  |\n",
    "| 상관분석         | 연속형 X, Y          | `pearsonr`         | 상관관계 정도 측정    |\n"
   ],
   "id": "2d894f0ff3449468"
  },
  {
   "metadata": {},
   "cell_type": "markdown",
   "source": [
    "주어진 데이터는 고혈압 환자 치료 전후의 혈압이다. 해당 치료가 효과가 있는지 대응(쌍체)표본 t-검정을 진행하시오\n",
    "\n",
    "- 귀무가설(H0):  μ >= 0\n",
    "- 대립가설(H1):  μ < 0\n",
    "- μ = (치료 후 혈압 - 치료 전 혈압)의 평균\n",
    "- 유의수준: 0.05\n",
    "\n",
    "1. μ 의 표본평균은?(소수 둘째자리까지 반올림)\n",
    "2. 검정통계량 값은?(소수 넷째자리까지 반올림)\n",
    "3. p-값은?(소수 넷째자리까지 반올림)\n",
    "4. 가설검정의 결과는? (유의수준 5%)"
   ],
   "id": "44594fe5bc27d303"
  },
  {
   "cell_type": "code",
   "id": "initial_id",
   "metadata": {
    "collapsed": true,
    "ExecuteTime": {
     "end_time": "2025-06-13T03:00:01.757024Z",
     "start_time": "2025-06-13T03:00:00.901633Z"
    }
   },
   "source": [
    "import pandas as pd\n",
    "import numpy as np\n",
    "from scipy import stats\n",
    "\n",
    "df = pd.read_csv(\"../data/high_blood_pressure.csv\")\n",
    "\n",
    "print(df.head())\n",
    "\n",
    "df[\"target\"] = df[\"bp_post\"] - df[\"bp_pre\"]\n",
    "\n",
    "m_hat = df[\"target\"].mean()\n",
    "print(round(m_hat,2))\n",
    "\n",
    "# 독립표본 t-검정 수행\n",
    "t_stat, p_value = stats.ttest_rel(df[\"bp_post\"], df[\"bp_pre\"], alternative=\"less\")\n",
    "\n",
    "print(\"t-statistic:\", round(t_stat,4))\n",
    "print(\"p-value:\", round(p_value,4))"
   ],
   "outputs": [
    {
     "name": "stdout",
     "output_type": "stream",
     "text": [
      "     Id     sex  age  bp_pre  bp_post\n",
      "0  p001    Male   33     149      129\n",
      "1  p002    Male   39     168      168\n",
      "2  p003    Male   70     176      155\n",
      "3  p004  Female   41     169      178\n",
      "4  p005    Male   48     160      126\n",
      "-6.12\n",
      "t-statistic: -3.0002\n",
      "p-value: 0.0016\n"
     ]
    }
   ],
   "execution_count": 1
  },
  {
   "metadata": {},
   "cell_type": "markdown",
   "source": [
    "24년 3유형 강의\n",
    "\n",
    "https://www.youtube.com/watch?v=-mYXKWBmwZM&list=PLWtr7MRpQi5Dt41ZE0mT_wFIWUsTT1E7O&index=12\n",
    "\n",
    "Gender와 Survived 변수 간의 독립성 검정을 실시하였을 때, 카이제곱 통계량은? (반올림, 셋째자리)\n",
    "\n",
    "Gender, SibSp, Parch, Fare를 독립변수로 사용하여 로지스틱 회귀모형을 실시하였을 때, Parch변수의 계수값은? (반올림 셋째자리)\n",
    "\n",
    "위 2번 문제에서 추정된 로지스틱 회귀모형에서 SipSp 변수가 한 단위 증가할 때 생존할 오즈비 값은? (반올림 셋째자리)"
   ],
   "id": "faa57551484b7d14"
  },
  {
   "metadata": {
    "ExecuteTime": {
     "end_time": "2025-06-13T03:00:01.762925Z",
     "start_time": "2025-06-13T03:00:01.757808Z"
    }
   },
   "cell_type": "code",
   "source": [
    "import pandas as pd\n",
    "import numpy as np\n",
    "\n",
    "df = pd.read_csv(\"../data/Titanic_train.csv\")\n",
    "\n",
    "print(df.info())"
   ],
   "id": "f8db937668188b55",
   "outputs": [
    {
     "name": "stdout",
     "output_type": "stream",
     "text": [
      "<class 'pandas.core.frame.DataFrame'>\n",
      "RangeIndex: 891 entries, 0 to 890\n",
      "Data columns (total 12 columns):\n",
      " #   Column       Non-Null Count  Dtype  \n",
      "---  ------       --------------  -----  \n",
      " 0   PassengerId  891 non-null    int64  \n",
      " 1   Survived     891 non-null    int64  \n",
      " 2   Pclass       891 non-null    int64  \n",
      " 3   Name         891 non-null    object \n",
      " 4   Sex          891 non-null    object \n",
      " 5   Age          714 non-null    float64\n",
      " 6   SibSp        891 non-null    int64  \n",
      " 7   Parch        891 non-null    int64  \n",
      " 8   Ticket       891 non-null    object \n",
      " 9   Fare         891 non-null    float64\n",
      " 10  Cabin        204 non-null    object \n",
      " 11  Embarked     889 non-null    object \n",
      "dtypes: float64(2), int64(5), object(5)\n",
      "memory usage: 83.7+ KB\n",
      "None\n"
     ]
    }
   ],
   "execution_count": 2
  },
  {
   "metadata": {
    "ExecuteTime": {
     "end_time": "2025-06-13T03:00:02.024566Z",
     "start_time": "2025-06-13T03:00:01.763377Z"
    }
   },
   "cell_type": "code",
   "source": [
    "from scipy.stats import chi2_contingency\n",
    "from statsmodels.api import Logit\n",
    "\n",
    "table = pd.crosstab(df['Sex'], df['Survived'])\n",
    "\n",
    "# 2. 카이제곱 독립성 검정\n",
    "chi2, p, dof, expected = chi2_contingency(table)\n",
    "print(round(chi2, 3))\n",
    "\n",
    "formula = \"Survived ~ Pclass + Sex + SibSp + Parch\"\n",
    "result = Logit.from_formula(formula, df).fit()\n",
    "# print(result.summary())\n",
    "\n",
    "odds_ratio = np.exp(result.params['SibSp'])\n",
    "print(round(odds_ratio, 3))"
   ],
   "id": "6082d1ce44d15f68",
   "outputs": [
    {
     "name": "stdout",
     "output_type": "stream",
     "text": [
      "260.717\n",
      "Optimization terminated successfully.\n",
      "         Current function value: 0.459658\n",
      "         Iterations 6\n",
      "0.791\n"
     ]
    }
   ],
   "execution_count": 3
  },
  {
   "metadata": {},
   "cell_type": "markdown",
   "source": [
    "### 어떤 특정 약물을 복용한 사람들의 평균 체온이 복용하지 않은 사람들의 평균 체온과 유의미하게 다른지 검정해보려고 합니다.\n",
    "\n",
    "가정:\n",
    "\n",
    "- 약물을 복용한 그룹과 복용하지 않은 그룹의 체온 데이터가 각각 주어져 있다고 가정합니다.\n",
    "- 각 그룹의 체온은 정규분포를 따른다고 가정합니다.\n",
    "\n",
    "검정통계량, p-value, 검정결과를 출력하시오"
   ],
   "id": "85efc7df00d846c6"
  },
  {
   "metadata": {
    "ExecuteTime": {
     "end_time": "2025-06-13T03:00:02.028203Z",
     "start_time": "2025-06-13T03:00:02.025523Z"
    }
   },
   "cell_type": "code",
   "source": [
    "from scipy import stats\n",
    "\n",
    "group1 = [36.8, 36.7, 37.1, 36.9, 37.2, 36.8, 36.9, 37.1, 36.7, 37.1]\n",
    "group2 = [36.5, 36.6, 36.3, 36.6, 36.9, 36.7, 36.7, 36.8, 36.5, 36.7]\n",
    "\n",
    "t, p = stats.ttest_ind(group1, group2)\n",
    "print(t, p)"
   ],
   "id": "be17c47c6310cdb",
   "outputs": [
    {
     "name": "stdout",
     "output_type": "stream",
     "text": [
      "3.7964208654863336 0.0013218914767036912\n"
     ]
    }
   ],
   "execution_count": 4
  },
  {
   "metadata": {},
   "cell_type": "markdown",
   "source": [
    "### 문제: 다음은 22명의 학생들이 국어시험에서 받은 점수이다. 학생들의 평균이 75보다 크다고 할 수 있는가?\n",
    "\n",
    "- 귀무가설(H0): 모평균은 mu와 같다. (μ = mu), 학생들의 평균은 75이다\n",
    "- 대립가설(H1): 모평균은 mu보다 크다. (μ > mu), 학생들의 평균은 75보다 크다\n",
    "\n",
    "가정:\n",
    "\n",
    "- 모집단은 정규분포를 따른다.\n",
    "- 표본의 크기가 충분히 크다.\n",
    "\n",
    "검정통계량, p-value, 검정결과를 출력하시오"
   ],
   "id": "d0f67e9ee0016ca9"
  },
  {
   "metadata": {
    "ExecuteTime": {
     "end_time": "2025-06-13T03:00:02.030686Z",
     "start_time": "2025-06-13T03:00:02.028681Z"
    }
   },
   "cell_type": "code",
   "source": [
    "scores = [75, 80, 68, 72, 77, 82, 81, 79, 70, 74, 76, 78, 81, 73, 81, 78, 75, 72, 74, 79, 78, 79]\n",
    "\n",
    "mu = 75  # 검정할 모평균\n",
    "\n",
    "t, p = stats.ttest_1samp(scores, mu, alternative=\"greater\")\n",
    "\n",
    "print(t, p)"
   ],
   "id": "8282cd504259ed87",
   "outputs": [
    {
     "name": "stdout",
     "output_type": "stream",
     "text": [
      "1.765879233231226 0.04597614747709146\n"
     ]
    }
   ],
   "execution_count": 5
  }
 ],
 "metadata": {
  "kernelspec": {
   "display_name": "Python 3",
   "language": "python",
   "name": "python3"
  },
  "language_info": {
   "codemirror_mode": {
    "name": "ipython",
    "version": 2
   },
   "file_extension": ".py",
   "mimetype": "text/x-python",
   "name": "python",
   "nbconvert_exporter": "python",
   "pygments_lexer": "ipython2",
   "version": "2.7.6"
  }
 },
 "nbformat": 4,
 "nbformat_minor": 5
}
