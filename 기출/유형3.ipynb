{
 "cells": [
  {
   "metadata": {},
   "cell_type": "markdown",
   "source": [
    "| 검정 유형        | 사용 조건             | 함수                 | 설명            |\n",
    "| ------------ | ----------------- | ------------------ | ------------- |\n",
    "| 카이제곱         | 범주형 X, Y          | `chi2_contingency` | 독립성 여부        |\n",
    "| 독립 t검정       | 연속형 Y, 범주형(2집단) X | `ttest_ind`        | 두 집단 평균 비교    |\n",
    "| 대응 t검정       | 연속형 Y, 전후 비교      | `ttest_rel`        | 같은 집단 내 비교    |\n",
    "| 분산분석 (ANOVA) | 연속형 Y, 3집단 이상 X   | `f_oneway`         | 세 집단 이상 평균 비교 |\n",
    "| 로지스틱 회귀      | 종속변수: 0/1         | `Logit`            | 변수의 생존 영향 분석  |\n",
    "| 상관분석         | 연속형 X, Y          | `pearsonr`         | 상관관계 정도 측정    |\n"
   ],
   "id": "2d894f0ff3449468"
  },
  {
   "metadata": {},
   "cell_type": "markdown",
   "source": [
    "주어진 데이터는 고혈압 환자 치료 전후의 혈압이다. 해당 치료가 효과가 있는지 대응(쌍체)표본 t-검정을 진행하시오\n",
    "\n",
    "- 귀무가설(H0):  μ >= 0\n",
    "- 대립가설(H1):  μ < 0\n",
    "- μ = (치료 후 혈압 - 치료 전 혈압)의 평균\n",
    "- 유의수준: 0.05\n",
    "\n",
    "1. μ 의 표본평균은?(소수 둘째자리까지 반올림)\n",
    "2. 검정통계량 값은?(소수 넷째자리까지 반올림)\n",
    "3. p-값은?(소수 넷째자리까지 반올림)\n",
    "4. 가설검정의 결과는? (유의수준 5%)"
   ],
   "id": "44594fe5bc27d303"
  },
  {
   "cell_type": "code",
   "id": "initial_id",
   "metadata": {
    "collapsed": true,
    "ExecuteTime": {
     "end_time": "2025-06-21T04:39:01.844009Z",
     "start_time": "2025-06-21T04:39:01.211730Z"
    }
   },
   "source": [
    "import pandas as pd\n",
    "import numpy as np\n",
    "from scipy import stats\n",
    "\n",
    "df = pd.read_csv(\"../data/high_blood_pressure.csv\")\n",
    "\n",
    "print(df.head())\n",
    "\n",
    "df[\"target\"] = df[\"bp_post\"] - df[\"bp_pre\"]\n",
    "\n",
    "m_hat = df[\"target\"].mean()\n",
    "print(round(m_hat,2))\n",
    "\n",
    "# 독립표본 t-검정 수행\n",
    "t_stat, p_value = stats.ttest_rel(df[\"bp_post\"], df[\"bp_pre\"], alternative=\"less\")\n",
    "\n",
    "print(\"t-statistic:\", round(t_stat,4))\n",
    "print(\"p-value:\", round(p_value,4))"
   ],
   "outputs": [
    {
     "name": "stdout",
     "output_type": "stream",
     "text": [
      "     Id     sex  age  bp_pre  bp_post\n",
      "0  p001    Male   33     149      129\n",
      "1  p002    Male   39     168      168\n",
      "2  p003    Male   70     176      155\n",
      "3  p004  Female   41     169      178\n",
      "4  p005    Male   48     160      126\n",
      "-6.12\n",
      "t-statistic: -3.0002\n",
      "p-value: 0.0016\n"
     ]
    }
   ],
   "execution_count": 1
  },
  {
   "metadata": {},
   "cell_type": "markdown",
   "source": [
    "24년 3유형 강의\n",
    "\n",
    "https://www.youtube.com/watch?v=-mYXKWBmwZM&list=PLWtr7MRpQi5Dt41ZE0mT_wFIWUsTT1E7O&index=12\n",
    "\n",
    "Gender와 Survived 변수 간의 독립성 검정을 실시하였을 때, 카이제곱 통계량은? (반올림, 셋째자리)\n",
    "\n",
    "Gender, SibSp, Parch, Fare를 독립변수로 사용하여 로지스틱 회귀모형을 실시하였을 때, Parch변수의 계수값은? (반올림 셋째자리)\n",
    "\n",
    "위 2번 문제에서 추정된 로지스틱 회귀모형에서 SipSp 변수가 한 단위 증가할 때 생존할 오즈비 값은? (반올림 셋째자리)"
   ],
   "id": "faa57551484b7d14"
  },
  {
   "metadata": {
    "ExecuteTime": {
     "end_time": "2025-06-21T04:39:01.850137Z",
     "start_time": "2025-06-21T04:39:01.844870Z"
    }
   },
   "cell_type": "code",
   "source": [
    "import pandas as pd\n",
    "import numpy as np\n",
    "\n",
    "df = pd.read_csv(\"../data/Titanic_train.csv\")\n",
    "\n",
    "print(df.info())"
   ],
   "id": "f8db937668188b55",
   "outputs": [
    {
     "name": "stdout",
     "output_type": "stream",
     "text": [
      "<class 'pandas.core.frame.DataFrame'>\n",
      "RangeIndex: 891 entries, 0 to 890\n",
      "Data columns (total 12 columns):\n",
      " #   Column       Non-Null Count  Dtype  \n",
      "---  ------       --------------  -----  \n",
      " 0   PassengerId  891 non-null    int64  \n",
      " 1   Survived     891 non-null    int64  \n",
      " 2   Pclass       891 non-null    int64  \n",
      " 3   Name         891 non-null    object \n",
      " 4   Sex          891 non-null    object \n",
      " 5   Age          714 non-null    float64\n",
      " 6   SibSp        891 non-null    int64  \n",
      " 7   Parch        891 non-null    int64  \n",
      " 8   Ticket       891 non-null    object \n",
      " 9   Fare         891 non-null    float64\n",
      " 10  Cabin        204 non-null    object \n",
      " 11  Embarked     889 non-null    object \n",
      "dtypes: float64(2), int64(5), object(5)\n",
      "memory usage: 83.7+ KB\n",
      "None\n"
     ]
    }
   ],
   "execution_count": 2
  },
  {
   "metadata": {
    "ExecuteTime": {
     "end_time": "2025-06-21T04:39:02.025681Z",
     "start_time": "2025-06-21T04:39:01.850900Z"
    }
   },
   "cell_type": "code",
   "source": [
    "from scipy.stats import chi2_contingency\n",
    "from statsmodels.api import Logit\n",
    "\n",
    "table = pd.crosstab(df['Sex'], df['Survived'])\n",
    "\n",
    "# 2. 카이제곱 독립성 검정\n",
    "chi2, p, dof, expected = chi2_contingency(table)\n",
    "print(round(chi2, 3))\n",
    "\n",
    "formula = \"Survived ~ Pclass + Sex + SibSp + Parch\"\n",
    "result = Logit.from_formula(formula, df).fit()\n",
    "# print(result.summary())\n",
    "\n",
    "odds_ratio = np.exp(result.params['SibSp'])\n",
    "print(round(odds_ratio, 3))"
   ],
   "id": "6082d1ce44d15f68",
   "outputs": [
    {
     "name": "stdout",
     "output_type": "stream",
     "text": [
      "260.717\n",
      "Optimization terminated successfully.\n",
      "         Current function value: 0.459658\n",
      "         Iterations 6\n",
      "0.791\n"
     ]
    }
   ],
   "execution_count": 3
  },
  {
   "metadata": {},
   "cell_type": "markdown",
   "source": [
    "### 어떤 특정 약물을 복용한 사람들의 평균 체온이 복용하지 않은 사람들의 평균 체온과 유의미하게 다른지 검정해보려고 합니다.\n",
    "\n",
    "가정:\n",
    "\n",
    "- 약물을 복용한 그룹과 복용하지 않은 그룹의 체온 데이터가 각각 주어져 있다고 가정합니다.\n",
    "- 각 그룹의 체온은 정규분포를 따른다고 가정합니다.\n",
    "\n",
    "검정통계량, p-value, 검정결과를 출력하시오"
   ],
   "id": "85efc7df00d846c6"
  },
  {
   "metadata": {
    "ExecuteTime": {
     "end_time": "2025-06-21T04:39:02.029627Z",
     "start_time": "2025-06-21T04:39:02.026674Z"
    }
   },
   "cell_type": "code",
   "source": [
    "from scipy import stats\n",
    "\n",
    "group1 = [36.8, 36.7, 37.1, 36.9, 37.2, 36.8, 36.9, 37.1, 36.7, 37.1]\n",
    "group2 = [36.5, 36.6, 36.3, 36.6, 36.9, 36.7, 36.7, 36.8, 36.5, 36.7]\n",
    "\n",
    "t, p = stats.ttest_ind(group1, group2)\n",
    "print(t, p)"
   ],
   "id": "be17c47c6310cdb",
   "outputs": [
    {
     "name": "stdout",
     "output_type": "stream",
     "text": [
      "3.7964208654863336 0.0013218914767036912\n"
     ]
    }
   ],
   "execution_count": 4
  },
  {
   "metadata": {},
   "cell_type": "markdown",
   "source": [
    "### 문제: 다음은 22명의 학생들이 국어시험에서 받은 점수이다. 학생들의 평균이 75보다 크다고 할 수 있는가?\n",
    "\n",
    "- 귀무가설(H0): 모평균은 mu와 같다. (μ = mu), 학생들의 평균은 75이다\n",
    "- 대립가설(H1): 모평균은 mu보다 크다. (μ > mu), 학생들의 평균은 75보다 크다\n",
    "\n",
    "가정:\n",
    "\n",
    "- 모집단은 정규분포를 따른다.\n",
    "- 표본의 크기가 충분히 크다.\n",
    "\n",
    "검정통계량, p-value, 검정결과를 출력하시오"
   ],
   "id": "d0f67e9ee0016ca9"
  },
  {
   "metadata": {
    "ExecuteTime": {
     "end_time": "2025-06-21T04:39:02.032553Z",
     "start_time": "2025-06-21T04:39:02.030080Z"
    }
   },
   "cell_type": "code",
   "source": [
    "scores = [75, 80, 68, 72, 77, 82, 81, 79, 70, 74, 76, 78, 81, 73, 81, 78, 75, 72, 74, 79, 78, 79]\n",
    "\n",
    "mu = 75  # 검정할 모평균\n",
    "\n",
    "t, p = stats.ttest_1samp(scores, mu, alternative=\"greater\")\n",
    "\n",
    "print(t, p)"
   ],
   "id": "8282cd504259ed87",
   "outputs": [
    {
     "name": "stdout",
     "output_type": "stream",
     "text": [
      "1.765879233231226 0.04597614747709146\n"
     ]
    }
   ],
   "execution_count": 5
  },
  {
   "metadata": {},
   "cell_type": "markdown",
   "source": [
    "### 세 가지 다른 교육 방법(A, B, C)을 사용하여 수험생들의 시험 성적을 개선시키는 효과를 평가하고자 한다. 30명의 학생들을 무작위로 세 그룹으로 배정하여 교육을 실시하였고, 시험을 보고 성적을 측정하였습니다. 다음은 각 그룹의 학생들의 성적 데이터입니다.\n",
    "- 귀무가설(H0): 세 그룹(A, B, C) 간의 평균 성적 차이가 없다.\n",
    "- 대립가설(H1 또는 Ha): 세 그룹(A, B, C) 간의 평균 성적 차이가 있다.\n",
    "1. 다음 주어진 데이터로 일원배치법을 수행하여 그룹 간의 평균 성적 차이가 있는지 검정하세요\n",
    "    1) p값 (소수 여섯째자리)\n",
    "    2) 검정결과 출력\n",
    "\n",
    "2. 다음 주어진 데이터로 일원배치법을 수행하여 그룹 간의 평균 성적 차이가 있는지 검정하세요\n",
    "    1) f값 (소수 둘째자리)\n",
    "    2) p값 (소수 여섯째자리)\n",
    "    3) 검정결과 출력"
   ],
   "id": "8c2c41c3b14cdd83"
  },
  {
   "metadata": {
    "ExecuteTime": {
     "end_time": "2025-06-21T04:39:02.034957Z",
     "start_time": "2025-06-21T04:39:02.033168Z"
    }
   },
   "cell_type": "code",
   "source": [
    "groupA = [85, 92, 78, 88, 83, 90, 76, 84, 92, 87]\n",
    "groupB = [79, 69, 84, 78, 79, 83, 79, 81, 86, 88]\n",
    "groupC = [75, 68, 74, 65, 77, 72, 70, 73, 78, 75]"
   ],
   "id": "c34d8a20c539efc8",
   "outputs": [],
   "execution_count": 6
  },
  {
   "metadata": {
    "ExecuteTime": {
     "end_time": "2025-06-21T04:39:02.037779Z",
     "start_time": "2025-06-21T04:39:02.035492Z"
    }
   },
   "cell_type": "code",
   "source": [
    "from scipy import stats\n",
    "f_val, p_val = stats.f_oneway(groupA, groupB, groupC)\n",
    "\n",
    "print(round(f_val, 2), round(p_val, 6))"
   ],
   "id": "f5e2022c5748b291",
   "outputs": [
    {
     "name": "stdout",
     "output_type": "stream",
     "text": [
      "16.88 1.8e-05\n"
     ]
    }
   ],
   "execution_count": 7
  },
  {
   "metadata": {
    "ExecuteTime": {
     "end_time": "2025-06-21T04:39:02.041565Z",
     "start_time": "2025-06-21T04:39:02.038202Z"
    }
   },
   "cell_type": "code",
   "source": [
    "import pandas as pd\n",
    "\n",
    "groupA = [85, 92, 78, 88, 83, 90, 76, 84, 92, 87]\n",
    "groupB = [79, 69, 84, 78, 79, 83, 79, 81, 86, 88]\n",
    "groupC = [75, 68, 74, 65, 77, 72, 70, 73, 78, 75]\n",
    "\n",
    "data = {'GroupA': groupA, 'GroupB': groupB, 'GroupC': groupC}\n",
    "\n",
    "df_wide = pd.DataFrame(data)\n",
    "df_long = df_wide.melt(value_vars=['GroupA', 'GroupB', 'GroupC'], var_name='Group', value_name='Score')"
   ],
   "id": "248a64e86a529ec6",
   "outputs": [],
   "execution_count": 8
  },
  {
   "metadata": {},
   "cell_type": "markdown",
   "source": [
    "### 12명의 수험생이 빅데이터 분석기사 시험에서 받은 점수이다. Shapiro-Wilk 검정을 사용하여 데이터가 정규 분포를 따르는지 검증하시오\n",
    "- 귀무 가설(H0): 데이터는 정규 분포를 따른다.\n",
    "- 대립 가설(H1): 데이터는 정규 분포를 따르지 않는다.\n",
    "\n",
    "Shapiro-Wilk 검정 통계량, p-value, 검증결과를 출력하시오"
   ],
   "id": "7e0ba50561fccb20"
  },
  {
   "metadata": {
    "ExecuteTime": {
     "end_time": "2025-06-21T04:39:02.044624Z",
     "start_time": "2025-06-21T04:39:02.042225Z"
    }
   },
   "cell_type": "code",
   "source": [
    "data = [75, 83, 81, 92, 68, 77, 78, 80, 85, 95, 79, 89]\n",
    "\n",
    "statistic, p_value = stats.shapiro(data)\n",
    "\n",
    "print(\"Shapiro-Wilk 검정 통계량:\", statistic)\n",
    "print(\"p-value:\", p_value)"
   ],
   "id": "b8795270d717ca2b",
   "outputs": [
    {
     "name": "stdout",
     "output_type": "stream",
     "text": [
      "Shapiro-Wilk 검정 통계량: 0.9768091723993144\n",
      "p-value: 0.9676506711851194\n"
     ]
    }
   ],
   "execution_count": 9
  },
  {
   "metadata": {},
   "cell_type": "markdown",
   "source": [
    "### iris에서 Sepal Length와 Sepal Width의 상관계수 계산하고 소수 둘째자리까지 출력하시오\n",
    "\n"
   ],
   "id": "bb7cbea94ee967d3"
  },
  {
   "metadata": {
    "ExecuteTime": {
     "end_time": "2025-06-21T04:39:02.116502Z",
     "start_time": "2025-06-21T04:39:02.046056Z"
    }
   },
   "cell_type": "code",
   "source": [
    "import pandas as pd\n",
    "from sklearn.datasets import load_iris\n",
    "\n",
    "# iris 데이터셋 로드\n",
    "iris = load_iris()\n",
    "df = pd.DataFrame(iris.data, columns=iris.feature_names)"
   ],
   "id": "a729390925344f00",
   "outputs": [],
   "execution_count": 10
  },
  {
   "metadata": {
    "ExecuteTime": {
     "end_time": "2025-06-21T04:39:02.119140Z",
     "start_time": "2025-06-21T04:39:02.117046Z"
    }
   },
   "cell_type": "code",
   "source": [
    "corr = df.corr()\n",
    "print(corr.loc[\"sepal length (cm)\", \"sepal width (cm)\"])"
   ],
   "id": "f6d58a5c70e494d5",
   "outputs": [
    {
     "name": "stdout",
     "output_type": "stream",
     "text": [
      "-0.11756978413300091\n"
     ]
    }
   ],
   "execution_count": 11
  },
  {
   "metadata": {
    "ExecuteTime": {
     "end_time": "2025-06-21T04:39:02.120769Z",
     "start_time": "2025-06-21T04:39:02.119627Z"
    }
   },
   "cell_type": "code",
   "source": "",
   "id": "f6ebe6ccd2a2ef4d",
   "outputs": [],
   "execution_count": 11
  },
  {
   "metadata": {
    "ExecuteTime": {
     "end_time": "2025-06-21T04:39:02.130906Z",
     "start_time": "2025-06-21T04:39:02.121230Z"
    }
   },
   "cell_type": "code",
   "source": [
    "import pandas as pd\n",
    "import numpy as np\n",
    "from statsmodels.api import Logit\n",
    "from scipy import stats\n",
    "\n",
    "df = pd.read_csv(\"../data/Titanic_train.csv\")\n",
    "\n",
    "table = pd.crosstab(df[\"Sex\"], df[\"Survived\"])\n",
    "result = stats.chi2_contingency(table)\n",
    "print(result)\n",
    "\n",
    "formula = \"Survived ~ Pclass + Sex + SibSp + Parch\"\n",
    "\n",
    "result = Logit.from_formula(formula, df).fit()\n",
    "print(result.params)\n",
    "\n",
    "odds = np.exp(result.params[\"SibSp\"])\n",
    "print(odds)"
   ],
   "id": "945208d5c3830387",
   "outputs": [
    {
     "name": "stdout",
     "output_type": "stream",
     "text": [
      "Chi2ContingencyResult(statistic=np.float64(260.71702016732104), pvalue=np.float64(1.197357062775565e-58), dof=1, expected_freq=array([[193.47474747, 120.52525253],\n",
      "       [355.52525253, 221.47474747]]))\n",
      "Optimization terminated successfully.\n",
      "         Current function value: 0.459658\n",
      "         Iterations 6\n",
      "Intercept      3.459608\n",
      "Sex[T.male]   -2.762364\n",
      "Pclass        -0.939161\n",
      "SibSp         -0.234018\n",
      "Parch         -0.050260\n",
      "dtype: float64\n",
      "0.7913474097443277\n"
     ]
    }
   ],
   "execution_count": 12
  },
  {
   "metadata": {},
   "cell_type": "markdown",
   "source": [
    "# 문제: 두 교육 방법의 효과 비교\n",
    "연구자는 두 가지 다른 교육 방법이 학생들의 성적에 미치는 영향을 비교하고자 합니다. 연구자는 무작위로 선발된 20명의 학생들을 두 그룹으로 나누어 한 그룹에는 교육 방법 A를, 다른 그룹에는 교육 방법 B를 적용합니다. 교육이 끝난 후, 두 그룹의 성적을 비교하기 위해 독립 표본 t-검정과 ANOVA F-검정을 실시하려고 합니다.\n",
    "\n",
    "다음은 두 그룹의 성적입니다: 다음의 두 가지 검정을 사용하여 두 교육 방법 간의 성적 차이가 통계적으로 유의한지를 검증하세요\n",
    "\n",
    "1. 독립 표본 t-검정을 실시하여 t 통계량을 구하세요.\n",
    "2. 독립 표본 t-검정을 실시하여 p-값을 구하세요.\n",
    "3. ANOVA F-검정을 실시하여 F 통계량을 구하세요.\n",
    "4. ANOVA F-검정을 실시하여 p-값을 구하세요."
   ],
   "id": "fe4ea208c46e68ee"
  },
  {
   "metadata": {
    "ExecuteTime": {
     "end_time": "2025-06-21T04:39:02.133087Z",
     "start_time": "2025-06-21T04:39:02.131456Z"
    }
   },
   "cell_type": "code",
   "source": [
    "import pandas as pd\n",
    "df = pd.DataFrame({\n",
    "    'A':[77, 75, 82, 80, 81, 83, 84, 76, 75, 87],\n",
    "    'B':[80, 74, 77, 79, 71, 74, 78, 69, 70, 72],\n",
    "})"
   ],
   "id": "104e994c07a5c015",
   "outputs": [],
   "execution_count": 13
  },
  {
   "metadata": {
    "ExecuteTime": {
     "end_time": "2025-06-21T04:39:02.136565Z",
     "start_time": "2025-06-21T04:39:02.133621Z"
    }
   },
   "cell_type": "code",
   "source": [
    "from scipy import stats\n",
    "\n",
    "tval, pval = stats.ttest_ind(df[\"A\"], df[\"B\"])\n",
    "print(tval, pval)\n",
    "\n",
    "tval, pval = stats.f_oneway(df[\"A\"], df[\"B\"])\n",
    "print(tval, pval)"
   ],
   "id": "2829485de767a2ac",
   "outputs": [
    {
     "name": "stdout",
     "output_type": "stream",
     "text": [
      "3.1068522301122954 0.006087373605949963\n",
      "9.652530779753763 0.006087373605949924\n"
     ]
    }
   ],
   "execution_count": 14
  },
  {
   "metadata": {
    "ExecuteTime": {
     "end_time": "2025-06-21T04:39:02.138447Z",
     "start_time": "2025-06-21T04:39:02.137326Z"
    }
   },
   "cell_type": "code",
   "source": "",
   "id": "89dd39b5cf1138ec",
   "outputs": [],
   "execution_count": 14
  }
 ],
 "metadata": {
  "kernelspec": {
   "display_name": "Python 3",
   "language": "python",
   "name": "python3"
  },
  "language_info": {
   "codemirror_mode": {
    "name": "ipython",
    "version": 2
   },
   "file_extension": ".py",
   "mimetype": "text/x-python",
   "name": "python",
   "nbconvert_exporter": "python",
   "pygments_lexer": "ipython2",
   "version": "2.7.6"
  }
 },
 "nbformat": 4,
 "nbformat_minor": 5
}
